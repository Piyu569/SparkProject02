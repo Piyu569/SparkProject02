{
  "nbformat": 4,
  "nbformat_minor": 0,
  "metadata": {
    "colab": {
      "provenance": [],
      "authorship_tag": "ABX9TyMKa5wM0uOTQ44FOLddfLkq",
      "include_colab_link": true
    },
    "kernelspec": {
      "name": "python3",
      "display_name": "Python 3"
    },
    "language_info": {
      "name": "python"
    }
  },
  "cells": [
    {
      "cell_type": "markdown",
      "metadata": {
        "id": "view-in-github",
        "colab_type": "text"
      },
      "source": [
        "<a href=\"https://colab.research.google.com/github/Piyu569/SparkProject02/blob/dev/Partitioning.ipynb\" target=\"_parent\"><img src=\"https://colab.research.google.com/assets/colab-badge.svg\" alt=\"Open In Colab\"/></a>"
      ]
    },
    {
      "cell_type": "code",
      "execution_count": 1,
      "metadata": {
        "id": "WIhzx0is1cpU",
        "colab": {
          "base_uri": "https://localhost:8080/"
        },
        "outputId": "ef286eb9-7a2d-4d80-c01a-b822ed5ad0a2"
      },
      "outputs": [
        {
          "output_type": "stream",
          "name": "stdout",
          "text": [
            "Looking in indexes: https://pypi.org/simple, https://us-python.pkg.dev/colab-wheels/public/simple/\n",
            "Collecting pyspark\n",
            "  Downloading pyspark-3.3.1.tar.gz (281.4 MB)\n",
            "\u001b[2K     \u001b[90m━━━━━━━━━━━━━━━━━━━━━━━━━━━━━━━━━━━━━━━\u001b[0m \u001b[32m281.4/281.4 MB\u001b[0m \u001b[31m3.9 MB/s\u001b[0m eta \u001b[36m0:00:00\u001b[0m\n",
            "\u001b[?25h  Preparing metadata (setup.py) ... \u001b[?25l\u001b[?25hdone\n",
            "Collecting py4j==0.10.9.5\n",
            "  Downloading py4j-0.10.9.5-py2.py3-none-any.whl (199 kB)\n",
            "\u001b[2K     \u001b[90m━━━━━━━━━━━━━━━━━━━━━━━━━━━━━━━━━━━━━━\u001b[0m \u001b[32m199.7/199.7 KB\u001b[0m \u001b[31m13.1 MB/s\u001b[0m eta \u001b[36m0:00:00\u001b[0m\n",
            "\u001b[?25hBuilding wheels for collected packages: pyspark\n",
            "  Building wheel for pyspark (setup.py) ... \u001b[?25l\u001b[?25hdone\n",
            "  Created wheel for pyspark: filename=pyspark-3.3.1-py2.py3-none-any.whl size=281845512 sha256=179d96f2f00edb9514a44b87dc0ed67d605d720bc64b81aaebdc7a3125e665ae\n",
            "  Stored in directory: /root/.cache/pip/wheels/43/dc/11/ec201cd671da62fa9c5cc77078235e40722170ceba231d7598\n",
            "Successfully built pyspark\n",
            "Installing collected packages: py4j, pyspark\n",
            "Successfully installed py4j-0.10.9.5 pyspark-3.3.1\n"
          ]
        }
      ],
      "source": [
        "pip install pyspark"
      ]
    },
    {
      "cell_type": "code",
      "source": [
        "from pyspark.sql import SparkSession"
      ],
      "metadata": {
        "id": "Ns8chbhv97Pn"
      },
      "execution_count": 2,
      "outputs": []
    },
    {
      "cell_type": "code",
      "source": [
        "import pyspark"
      ],
      "metadata": {
        "id": "2GCXCjRaLMoT"
      },
      "execution_count": 3,
      "outputs": []
    },
    {
      "cell_type": "code",
      "source": [
        "spark = SparkSession.builder.appName(\"YouSubscription\").getOrCreate()"
      ],
      "metadata": {
        "id": "t-04gsAQJp6U"
      },
      "execution_count": 7,
      "outputs": []
    },
    {
      "cell_type": "markdown",
      "source": [
        "# YouTube DataSet for partitioning"
      ],
      "metadata": {
        "id": "N49_4frhMG9k"
      }
    },
    {
      "cell_type": "code",
      "source": [
        "from pyspark.sql.types import LongType, StringType, StructType, StructField ,IntegerType\n",
        "\n",
        "userDefinedSchema = StructType([\n",
        "    StructField(\"Rank\", IntegerType(), True),\n",
        "    StructField(\"Youtube Channerl\", StringType(), True),\n",
        "    StructField(\"Subscribers\",StringType(),True),\n",
        "    StructField(\"Vedio Views\", StringType(), True),\n",
        "    StructField(\"Vedio Count\",StringType(),True),\n",
        "    StructField(\"Category\" , StringType() , True)\n",
        "    \n",
        "])"
      ],
      "metadata": {
        "id": "9GJ1AXvPVpTc"
      },
      "execution_count": 69,
      "outputs": []
    },
    {
      "cell_type": "code",
      "source": [
        "usersCsvPath = \"/content/topSubscribed.csv\"\n",
        "\n",
        "df = (spark\n",
        "           .read\n",
        "           .option(\"header\", True)\n",
        "           .schema(userDefinedSchema)\n",
        "           .csv(usersCsvPath)\n",
        "          )"
      ],
      "metadata": {
        "id": "WPblip3rKJhp"
      },
      "execution_count": 105,
      "outputs": []
    },
    {
      "cell_type": "code",
      "source": [
        "df.show(20,False)\n",
        "df.printSchema()"
      ],
      "metadata": {
        "colab": {
          "base_uri": "https://localhost:8080/"
        },
        "id": "8bUce_TgKq3t",
        "outputId": "1684081f-3377-46c1-bf94-78584270f41b"
      },
      "execution_count": 106,
      "outputs": [
        {
          "output_type": "stream",
          "name": "stdout",
          "text": [
            "+----+--------------------------+-----------+---------------+-----------+----------------------------------------------------------------------------+\n",
            "|Rank|Youtube Channerl          |Subscribers|Vedio Views    |Vedio Count|Category                                                                    |\n",
            "+----+--------------------------+-----------+---------------+-----------+----------------------------------------------------------------------------+\n",
            "|1   |T-Series                  |234,000,000|212,900,271,553|18,515     |Music                                                                       |\n",
            "|2   |YouTube Movies            |161,000,000|0              |0          |Film & Animation                                                            |\n",
            "|3   |Cocomelon - Nursery Rhymes|152,000,000|149,084,178,448|846        |Education                                                                   |\n",
            "|4   |SET India                 |150,000,000|137,828,094,104|103,200    |Shows                                                                       |\n",
            "|5   |MrBeast                   |128,000,000|21,549,128,785 |733        |Entertainment                                                               |\n",
            "|6   |Music                     |118,000,000|0              |0          |https://us.youtubers.me/global/all/top-1000-most_subscribed-youtube-channels|\n",
            "|7   |PewDiePie                 |111,000,000|28,851,883,250 |4,694      |Gaming                                                                      |\n",
            "|8   |✿ Kids Diana Show         |106,000,000|86,638,570,921 |1,056      |People & Blogs                                                              |\n",
            "|9   |Like Nastya               |104,000,000|87,202,935,675 |754        |People & Blogs                                                              |\n",
            "|10  |Gaming                    |93,300,000 |0              |0          |https://us.youtubers.me/global/all/top-1000-most_subscribed-youtube-channels|\n",
            "|11  |WWE                       |92,800,000 |73,577,695,222 |66,174     |Sports                                                                      |\n",
            "|12  |Vlad and Niki             |92,700,000 |72,444,118,381 |520        |Entertainment                                                               |\n",
            "|13  |Zee Music Company         |91,600,000 |53,352,597,784 |7,530      |Music                                                                       |\n",
            "|14  |BLACKPINK                 |83,900,000 |28,723,286,185 |468        |People & Blogs                                                              |\n",
            "|15  |Goldmines                 |81,200,000 |21,296,568,609 |5,090      |Film & Animation                                                            |\n",
            "|16  |5-Minute Crafts           |78,500,000 |24,983,430,208 |5,937      |Howto & Style                                                               |\n",
            "|17  |Sony SAB                  |76,400,000 |91,117,292,875 |63,390     |Shows                                                                       |\n",
            "|18  |Sports                    |75,100,000 |0              |0          |https://us.youtubers.me/global/all/top-1000-most_subscribed-youtube-channels|\n",
            "|19  |BANGTANTV                 |73,100,000 |19,240,057,894 |2,090      |Music                                                                       |\n",
            "|20  |Justin Bieber             |70,800,000 |29,598,652,357 |249        |Music                                                                       |\n",
            "+----+--------------------------+-----------+---------------+-----------+----------------------------------------------------------------------------+\n",
            "only showing top 20 rows\n",
            "\n",
            "root\n",
            " |-- Rank: integer (nullable = true)\n",
            " |-- Youtube Channerl: string (nullable = true)\n",
            " |-- Subscribers: string (nullable = true)\n",
            " |-- Vedio Views: string (nullable = true)\n",
            " |-- Vedio Count: string (nullable = true)\n",
            " |-- Category: string (nullable = true)\n",
            "\n"
          ]
        }
      ]
    },
    {
      "cell_type": "code",
      "source": [
        "df.count()"
      ],
      "metadata": {
        "colab": {
          "base_uri": "https://localhost:8080/"
        },
        "id": "TkNZ4XTHL_Bv",
        "outputId": "f50a0570-95ea-4146-e26d-e3fe970a95a6"
      },
      "execution_count": 107,
      "outputs": [
        {
          "output_type": "execute_result",
          "data": {
            "text/plain": [
              "1000"
            ]
          },
          "metadata": {},
          "execution_count": 107
        }
      ]
    },
    {
      "cell_type": "code",
      "source": [
        "df.rdd.getNumPartitions()"
      ],
      "metadata": {
        "id": "5941gXMuOiwA",
        "colab": {
          "base_uri": "https://localhost:8080/"
        },
        "outputId": "fd080dde-2102-4c8f-9923-dcbf4473516a"
      },
      "execution_count": 108,
      "outputs": [
        {
          "output_type": "execute_result",
          "data": {
            "text/plain": [
              "1"
            ]
          },
          "metadata": {},
          "execution_count": 108
        }
      ]
    },
    {
      "cell_type": "code",
      "source": [
        "print(spark.sparkContext.defaultMinPartitions)"
      ],
      "metadata": {
        "colab": {
          "base_uri": "https://localhost:8080/"
        },
        "id": "v9ETKgLKMnpj",
        "outputId": "b7b0e440-498b-4642-ba12-4fafda5dca67"
      },
      "execution_count": 109,
      "outputs": [
        {
          "output_type": "stream",
          "name": "stdout",
          "text": [
            "2\n"
          ]
        }
      ]
    },
    {
      "cell_type": "code",
      "source": [
        "print(spark.sparkContext.defaultParallelism)"
      ],
      "metadata": {
        "colab": {
          "base_uri": "https://localhost:8080/"
        },
        "id": "YeajrNYXNAk7",
        "outputId": "e4a24012-1d0e-4f21-c7d9-0baa69a527c9"
      },
      "execution_count": 110,
      "outputs": [
        {
          "output_type": "stream",
          "name": "stdout",
          "text": [
            "2\n"
          ]
        }
      ]
    },
    {
      "cell_type": "code",
      "source": [
        "rp = df.repartition(8)"
      ],
      "metadata": {
        "id": "UVkFdMBHNMlu"
      },
      "execution_count": 111,
      "outputs": []
    },
    {
      "cell_type": "code",
      "source": [
        "rp.rdd.getNumPartitions()"
      ],
      "metadata": {
        "colab": {
          "base_uri": "https://localhost:8080/"
        },
        "id": "5TwbePQ4PZfw",
        "outputId": "03733f7c-0cbf-4722-b61e-b9a1a6aa1699"
      },
      "execution_count": 112,
      "outputs": [
        {
          "output_type": "execute_result",
          "data": {
            "text/plain": [
              "8"
            ]
          },
          "metadata": {},
          "execution_count": 112
        }
      ]
    },
    {
      "cell_type": "code",
      "source": [
        "co = df.coalesce(8)"
      ],
      "metadata": {
        "id": "7HA917TQP0Fy"
      },
      "execution_count": 113,
      "outputs": []
    },
    {
      "cell_type": "code",
      "source": [
        "co.rdd.getNumPartitions()"
      ],
      "metadata": {
        "colab": {
          "base_uri": "https://localhost:8080/"
        },
        "id": "-XSFN3kRRIcL",
        "outputId": "05be98be-ca25-41b6-9679-c07305dc0090"
      },
      "execution_count": 114,
      "outputs": [
        {
          "output_type": "execute_result",
          "data": {
            "text/plain": [
              "1"
            ]
          },
          "metadata": {},
          "execution_count": 114
        }
      ]
    },
    {
      "cell_type": "markdown",
      "source": [
        "# which channel category having most subscribers and sort subscribers in decreasing order"
      ],
      "metadata": {
        "id": "peUM8oGJWV1i"
      }
    },
    {
      "cell_type": "code",
      "source": [
        "from pyspark.sql.functions import avg,sum,col,sort_array,regexp_replace\n",
        "strtoint = (rp.withColumn(\"Subscribers\",regexp_replace(col(\"Subscribers\"),\",\",\"\").cast(\"integer\"))\n",
        "              .groupBy(\"Category\")\n",
        "              .agg(sum(\"Subscribers\").alias(\"total_subs\"))\n",
        "              .orderBy(col(\"total_subs\").desc())\n",
        ").show(20,False)"
      ],
      "metadata": {
        "colab": {
          "base_uri": "https://localhost:8080/"
        },
        "id": "5jyBeSGqRMZg",
        "outputId": "77c881d7-f146-48c5-c675-e92f5a17f886"
      },
      "execution_count": 130,
      "outputs": [
        {
          "output_type": "stream",
          "name": "stdout",
          "text": [
            "+----------------------------------------------------------------------------+----------+\n",
            "|Category                                                                    |total_subs|\n",
            "+----------------------------------------------------------------------------+----------+\n",
            "|Music                                                                       |5224800000|\n",
            "|Entertainment                                                               |4768200000|\n",
            "|People & Blogs                                                              |2558500000|\n",
            "|Gaming                                                                      |1873900000|\n",
            "|Film & Animation                                                            |1275200000|\n",
            "|Comedy                                                                      |1256400000|\n",
            "|Education                                                                   |1133600000|\n",
            "|https://us.youtubers.me/global/all/top-1000-most_subscribed-youtube-channels|793400000 |\n",
            "|Howto & Style                                                               |782300000 |\n",
            "|News & Politics                                                             |519300000 |\n",
            "|Shows                                                                       |516700000 |\n",
            "|Science & Technology                                                        |312000000 |\n",
            "|Sports                                                                      |273600000 |\n",
            "|Pets & Animals                                                              |87900000  |\n",
            "|Trailers                                                                    |74700000  |\n",
            "|Nonprofits & Activism                                                       |51700000  |\n",
            "|Movies                                                                      |48000000  |\n",
            "|Autos & Vehicles                                                            |18900000  |\n",
            "|Travel & Events                                                             |12300000  |\n",
            "+----------------------------------------------------------------------------+----------+\n",
            "\n"
          ]
        }
      ]
    },
    {
      "cell_type": "markdown",
      "source": [
        "# Which music channel having the most subs and sort them in decending order"
      ],
      "metadata": {
        "id": "Ea6SNoC_iynB"
      }
    },
    {
      "cell_type": "code",
      "source": [
        "from pyspark.sql.functions import when\n",
        "music = (co.withColumn(\"Subscribers\",regexp_replace(col(\"Subscribers\"),\",\",\"\").cast(\"integer\"))\n",
        "           .filter(df[\"Category\"] == \"Music\")\n",
        "           .orderBy(col(\"Subscribers\").desc())       \n",
        ").show()"
      ],
      "metadata": {
        "colab": {
          "base_uri": "https://localhost:8080/"
        },
        "id": "OjWTs2lDi-bw",
        "outputId": "b38ecda2-c76e-44f5-903b-e9ae5595a56e"
      },
      "execution_count": 142,
      "outputs": [
        {
          "output_type": "stream",
          "name": "stdout",
          "text": [
            "+----+--------------------+-----------+---------------+-----------+--------+\n",
            "|Rank|    Youtube Channerl|Subscribers|    Vedio Views|Vedio Count|Category|\n",
            "+----+--------------------+-----------+---------------+-----------+--------+\n",
            "|   1|            T-Series|  234000000|212,900,271,553|     18,515|   Music|\n",
            "|  13|   Zee Music Company|   91600000| 53,352,597,784|      7,530|   Music|\n",
            "|  19|           BANGTANTV|   73100000| 19,240,057,894|      2,090|   Music|\n",
            "|  20|       Justin Bieber|   70800000| 29,598,652,357|        249|   Music|\n",
            "|  21|         HYBE LABELS|   69600000| 25,947,702,825|      1,070|   Music|\n",
            "|  22|     Canal KondZilla|   66300000| 37,179,407,050|      2,383|   Music|\n",
            "|  25|Shemaroo Filmi Gaane|   63500000| 29,992,048,346|      8,464|   Music|\n",
            "|  30|T-Series Bhakti S...|   57300000| 27,004,807,684|     24,900|   Music|\n",
            "|  31|       Tips Official|   56300000| 30,741,513,673|      4,102|   Music|\n",
            "|  33|          Wave Music|   55700000| 38,819,471,815|     18,970|   Music|\n",
            "|  34|    Sony Music India|   55400000| 27,179,277,627|      3,380|   Music|\n",
            "|  36|         EminemMusic|   55000000| 25,334,375,101|        140|   Music|\n",
            "|  37|   El Reino Infantil|   55000000| 53,458,257,145|      1,410|   Music|\n",
            "|  38|          Ed Sheeran|   52800000| 29,004,663,326|        258|   Music|\n",
            "|  39|LooLoo Kids - Nur...|   52300000| 30,857,986,532|        607|   Music|\n",
            "|  40|       Ariana Grande|   52200000| 23,058,776,245|        146|   Music|\n",
            "|  42|        Taylor Swift|   50700000| 27,714,189,976|        204|   Music|\n",
            "|  45|       Billie Eilish|   47300000| 12,810,775,364|         51|   Music|\n",
            "|  49|           Bad Bunny|   45100000| 28,114,460,507|        127|   Music|\n",
            "|  51|  SonyMusicIndiaVEVO|   44800000| 25,915,043,211|      3,366|   Music|\n",
            "+----+--------------------+-----------+---------------+-----------+--------+\n",
            "only showing top 20 rows\n",
            "\n"
          ]
        }
      ]
    },
    {
      "cell_type": "markdown",
      "source": [
        "# Channel with max vedios "
      ],
      "metadata": {
        "id": "x7eWaEHvkS6f"
      }
    },
    {
      "cell_type": "code",
      "source": [
        "from pyspark.sql.functions import max , desc\n",
        "mx_vedios = (rp.withColumn(\"Vedio Count\",regexp_replace(col(\"Vedio Count\"),\",\",\"\").cast(\"integer\"))\n",
        "               .sort(desc(\"Vedio Count\"))        \n",
        "  ).show(1)\n"
      ],
      "metadata": {
        "colab": {
          "base_uri": "https://localhost:8080/"
        },
        "id": "mo_1JYrBlyRs",
        "outputId": "c89a01e3-dacb-4eed-ea71-255a17fb7abf"
      },
      "execution_count": 163,
      "outputs": [
        {
          "output_type": "stream",
          "name": "stdout",
          "text": [
            "+----+----------------+-----------+--------------+-----------+---------------+\n",
            "|Rank|Youtube Channerl|Subscribers|   Vedio Views|Vedio Count|       Category|\n",
            "+----+----------------+-----------+--------------+-----------+---------------+\n",
            "| 821|        GMA News| 12,800,000|11,220,255,933|     342802|News & Politics|\n",
            "+----+----------------+-----------+--------------+-----------+---------------+\n",
            "only showing top 1 row\n",
            "\n"
          ]
        }
      ]
    },
    {
      "cell_type": "markdown",
      "source": [
        "# In Gaming Catgory Channel with max vedios "
      ],
      "metadata": {
        "id": "J5EmaX2skjRU"
      }
    },
    {
      "cell_type": "code",
      "source": [
        "maxVedios = (rp.withColumn(\"Vedio Count\",regexp_replace(col(\"Vedio Count\"),\",\",\"\").cast(\"integer\"))\n",
        "               .filter(rp[\"Category\"] == \"Gaming\")\n",
        "               .orderBy(col(\"Vedio Count\").desc())\n",
        ").show(1)\n"
      ],
      "metadata": {
        "colab": {
          "base_uri": "https://localhost:8080/"
        },
        "id": "79QYrobssig4",
        "outputId": "0306569f-a3f8-4ef5-bd2f-b841b426acbb"
      },
      "execution_count": 166,
      "outputs": [
        {
          "output_type": "stream",
          "name": "stdout",
          "text": [
            "+----+----------------+-----------+--------------+-----------+--------+\n",
            "|Rank|Youtube Channerl|Subscribers|   Vedio Views|Vedio Count|Category|\n",
            "+----+----------------+-----------+--------------+-----------+--------+\n",
            "| 464|             IGN| 17,200,000|15,298,075,378|     152548|  Gaming|\n",
            "+----+----------------+-----------+--------------+-----------+--------+\n",
            "only showing top 1 row\n",
            "\n"
          ]
        }
      ]
    },
    {
      "cell_type": "markdown",
      "source": [
        "# Top 5 youtube channel:"
      ],
      "metadata": {
        "id": "tEoK97hlkrKO"
      }
    },
    {
      "cell_type": "code",
      "source": [
        "topfive = (co.withColumn(\"Subscribers\",regexp_replace(col(\"Subscribers\"),\",\",\"\").cast(\"integer\"))\n",
        "             .sort(desc(\"Subscribers\"))                 \n",
        "     ).show(5)"
      ],
      "metadata": {
        "colab": {
          "base_uri": "https://localhost:8080/"
        },
        "id": "SBJySdzfwx4i",
        "outputId": "16faca9b-1d9c-49c3-c5e7-708af6283f3e"
      },
      "execution_count": 167,
      "outputs": [
        {
          "output_type": "stream",
          "name": "stdout",
          "text": [
            "+----+--------------------+-----------+---------------+-----------+----------------+\n",
            "|Rank|    Youtube Channerl|Subscribers|    Vedio Views|Vedio Count|        Category|\n",
            "+----+--------------------+-----------+---------------+-----------+----------------+\n",
            "|   1|            T-Series|  234000000|212,900,271,553|     18,515|           Music|\n",
            "|   2|      YouTube Movies|  161000000|              0|          0|Film & Animation|\n",
            "|   3|Cocomelon - Nurse...|  152000000|149,084,178,448|        846|       Education|\n",
            "|   4|           SET India|  150000000|137,828,094,104|    103,200|           Shows|\n",
            "|   5|             MrBeast|  128000000| 21,549,128,785|        733|   Entertainment|\n",
            "+----+--------------------+-----------+---------------+-----------+----------------+\n",
            "only showing top 5 rows\n",
            "\n"
          ]
        }
      ]
    },
    {
      "cell_type": "markdown",
      "source": [
        "# Bottom 5 youTube Channel"
      ],
      "metadata": {
        "id": "RwGwdedhk2V3"
      }
    },
    {
      "cell_type": "code",
      "source": [
        "from pyspark.sql.functions import asc\n",
        "bottomfive = (co.withColumn(\"Subscribers\",regexp_replace(col(\"Subscribers\"),\",\",\"\").cast(\"integer\"))\n",
        "             .sort(asc(\"Subscribers\"))             \n",
        "     ).show(5)"
      ],
      "metadata": {
        "colab": {
          "base_uri": "https://localhost:8080/"
        },
        "id": "fF3ni7D_xTv8",
        "outputId": "1dbeb2dc-0213-4c43-80d8-616111897a05"
      },
      "execution_count": 175,
      "outputs": [
        {
          "output_type": "stream",
          "name": "stdout",
          "text": [
            "+----+----------------+-----------+-------------+-----------+--------------+\n",
            "|Rank|Youtube Channerl|Subscribers|  Vedio Views|Vedio Count|      Category|\n",
            "+----+----------------+-----------+-------------+-----------+--------------+\n",
            "| 999|       Painzeiro|   11400000|2,143,444,281|        946|People & Blogs|\n",
            "| 998|         YtCrash|   11400000|    3,825,084|          1|     Education|\n",
            "|1000|       Oum Walid|   11400000|2,480,064,722|      1,598|People & Blogs|\n",
            "| 981|         Airrack|   11500000|1,542,774,923|        159| Entertainment|\n",
            "| 986|       Brancoala|   11500000|8,465,443,935|      1,768| Entertainment|\n",
            "+----+----------------+-----------+-------------+-----------+--------------+\n",
            "only showing top 5 rows\n",
            "\n"
          ]
        }
      ]
    },
    {
      "cell_type": "code",
      "source": [],
      "metadata": {
        "id": "tJZUTFSBxs6e"
      },
      "execution_count": null,
      "outputs": []
    }
  ]
}