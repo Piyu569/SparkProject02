{
  "nbformat": 4,
  "nbformat_minor": 0,
  "metadata": {
    "colab": {
      "provenance": [],
      "authorship_tag": "ABX9TyNOmmqkBQIPQG2b/XeYkVhM",
      "include_colab_link": true
    },
    "kernelspec": {
      "name": "python3",
      "display_name": "Python 3"
    },
    "language_info": {
      "name": "python"
    }
  },
  "cells": [
    {
      "cell_type": "markdown",
      "metadata": {
        "id": "view-in-github",
        "colab_type": "text"
      },
      "source": [
        "<a href=\"https://colab.research.google.com/github/Piyu569/SparkProject02/blob/main/Functions_Extra_functions.ipynb\" target=\"_parent\"><img src=\"https://colab.research.google.com/assets/colab-badge.svg\" alt=\"Open In Colab\"/></a>"
      ]
    },
    {
      "cell_type": "code",
      "execution_count": 2,
      "metadata": {
        "colab": {
          "base_uri": "https://localhost:8080/"
        },
        "id": "MQHU2FCsqSot",
        "outputId": "8bf6b186-4e0a-4451-b302-e46934991f15"
      },
      "outputs": [
        {
          "output_type": "stream",
          "name": "stdout",
          "text": [
            "Looking in indexes: https://pypi.org/simple, https://us-python.pkg.dev/colab-wheels/public/simple/\n",
            "Collecting pyspark\n",
            "  Downloading pyspark-3.3.2.tar.gz (281.4 MB)\n",
            "\u001b[2K     \u001b[90m━━━━━━━━━━━━━━━━━━━━━━━━━━━━━━━━━━━━━━━\u001b[0m \u001b[32m281.4/281.4 MB\u001b[0m \u001b[31m3.5 MB/s\u001b[0m eta \u001b[36m0:00:00\u001b[0m\n",
            "\u001b[?25h  Preparing metadata (setup.py) ... \u001b[?25l\u001b[?25hdone\n",
            "Collecting py4j==0.10.9.5\n",
            "  Downloading py4j-0.10.9.5-py2.py3-none-any.whl (199 kB)\n",
            "\u001b[2K     \u001b[90m━━━━━━━━━━━━━━━━━━━━━━━━━━━━━━━━━━━━━━\u001b[0m \u001b[32m199.7/199.7 KB\u001b[0m \u001b[31m22.0 MB/s\u001b[0m eta \u001b[36m0:00:00\u001b[0m\n",
            "\u001b[?25hBuilding wheels for collected packages: pyspark\n",
            "  Building wheel for pyspark (setup.py) ... \u001b[?25l\u001b[?25hdone\n",
            "  Created wheel for pyspark: filename=pyspark-3.3.2-py2.py3-none-any.whl size=281824028 sha256=36822a889146ea793607acc687bfe96954bc2bf1dc0bbd476e4bb6231e617eb8\n",
            "  Stored in directory: /root/.cache/pip/wheels/6c/e3/9b/0525ce8a69478916513509d43693511463c6468db0de237c86\n",
            "Successfully built pyspark\n",
            "Installing collected packages: py4j, pyspark\n",
            "  Attempting uninstall: py4j\n",
            "    Found existing installation: py4j 0.10.9.7\n",
            "    Uninstalling py4j-0.10.9.7:\n",
            "      Successfully uninstalled py4j-0.10.9.7\n",
            "Successfully installed py4j-0.10.9.5 pyspark-3.3.2\n"
          ]
        }
      ],
      "source": [
        "pip install pyspark"
      ]
    },
    {
      "cell_type": "markdown",
      "source": [
        "# Try To keep this functions Pack in your Mind"
      ],
      "metadata": {
        "id": "fVxvK52ir26f"
      }
    },
    {
      "cell_type": "markdown",
      "source": [
        "# Pivot() vs Unpivot() in pyspark"
      ],
      "metadata": {
        "id": "e1SJ4cctr_Kd"
      }
    },
    {
      "cell_type": "code",
      "source": [
        "from pyspark.sql import SparkSession\n",
        "from pyspark import SparkContext\n",
        "spark = SparkSession.builder.appName(\"Functions_testing_practice\").getOrCreate()"
      ],
      "metadata": {
        "id": "AtAIBOfuuA2I"
      },
      "execution_count": 3,
      "outputs": []
    },
    {
      "cell_type": "code",
      "source": [
        "# Import PySpark SQL functions\n",
        "from pyspark.sql.functions import col\n",
        "\n",
        "# Create a list of tuples with the data\n",
        "data = [(\"Banana\",1000,\"USA\"), \n",
        "        (\"Carrots\",1500,\"USA\"), \n",
        "        (\"Beans\",1600,\"USA\"),\n",
        "        (\"Orange\",2000,\"USA\"),\n",
        "        (\"Orange\",2000,\"USA\"),\n",
        "        (\"Banana\",400,\"China\"),\n",
        "        (\"Carrots\",1200,\"China\"),\n",
        "        (\"Beans\",1500,\"China\"),\n",
        "        (\"Orange\",4000,\"China\"),\n",
        "        (\"Banana\",2000,\"Canada\"),\n",
        "        (\"Carrots\",2000,\"Canada\"),\n",
        "        (\"Beans\",2000,\"Mexico\")]\n",
        "\n",
        "# Create a PySpark DataFrame from the list of tuples\n",
        "df = spark.createDataFrame(data, [\"product\", \"price\", \"country\"])\n",
        "\n",
        "# Show the DataFrame\n",
        "df.show()\n",
        "df.printSchema()"
      ],
      "metadata": {
        "colab": {
          "base_uri": "https://localhost:8080/"
        },
        "id": "atGx0YlIrvcu",
        "outputId": "b919e81d-70ce-4084-c23a-c37d899fccd1"
      },
      "execution_count": 4,
      "outputs": [
        {
          "output_type": "stream",
          "name": "stdout",
          "text": [
            "+-------+-----+-------+\n",
            "|product|price|country|\n",
            "+-------+-----+-------+\n",
            "| Banana| 1000|    USA|\n",
            "|Carrots| 1500|    USA|\n",
            "|  Beans| 1600|    USA|\n",
            "| Orange| 2000|    USA|\n",
            "| Orange| 2000|    USA|\n",
            "| Banana|  400|  China|\n",
            "|Carrots| 1200|  China|\n",
            "|  Beans| 1500|  China|\n",
            "| Orange| 4000|  China|\n",
            "| Banana| 2000| Canada|\n",
            "|Carrots| 2000| Canada|\n",
            "|  Beans| 2000| Mexico|\n",
            "+-------+-----+-------+\n",
            "\n",
            "root\n",
            " |-- product: string (nullable = true)\n",
            " |-- price: long (nullable = true)\n",
            " |-- country: string (nullable = true)\n",
            "\n"
          ]
        }
      ]
    },
    {
      "cell_type": "code",
      "source": [
        "pivot_df = df.groupBy(\"product\").pivot(\"country\").sum(\"price\")\n",
        "pivot_df.show()\n"
      ],
      "metadata": {
        "colab": {
          "base_uri": "https://localhost:8080/"
        },
        "id": "wVALc7qqt_Hv",
        "outputId": "62e520f5-aa41-41db-9d53-ef64022b1daa"
      },
      "execution_count": 5,
      "outputs": [
        {
          "output_type": "stream",
          "name": "stdout",
          "text": [
            "+-------+------+-----+------+----+\n",
            "|product|Canada|China|Mexico| USA|\n",
            "+-------+------+-----+------+----+\n",
            "| Orange|  null| 4000|  null|4000|\n",
            "|  Beans|  null| 1500|  2000|1600|\n",
            "| Banana|  2000|  400|  null|1000|\n",
            "|Carrots|  2000| 1200|  null|1500|\n",
            "+-------+------+-----+------+----+\n",
            "\n"
          ]
        }
      ]
    },
    {
      "cell_type": "markdown",
      "source": [
        "# .Stack() -> Unpivot() in pyspark"
      ],
      "metadata": {
        "id": "CA2FHUl80Jl1"
      }
    },
    {
      "cell_type": "code",
      "source": [
        "from pyspark.sql.functions import expr\n",
        "\n",
        "# Unpivot the DataFrame\n",
        "unPivotDF = pivot_df.selectExpr(\"Product\",\n",
        "    \"stack(3, 'Canada', Canada, 'China', China, 'Mexico', Mexico) as (Country, Total)\") \\\n",
        "    .where(\"Total is not null\")\n",
        "\n",
        "# Show the unpivoted DataFrame\n",
        "unPivotDF.show()\n"
      ],
      "metadata": {
        "colab": {
          "base_uri": "https://localhost:8080/"
        },
        "id": "UdcBun6FunXV",
        "outputId": "488d9062-9fbb-4648-bc20-acd3841f6c91"
      },
      "execution_count": 6,
      "outputs": [
        {
          "output_type": "stream",
          "name": "stdout",
          "text": [
            "+-------+-------+-----+\n",
            "|Product|Country|Total|\n",
            "+-------+-------+-----+\n",
            "| Orange|  China| 4000|\n",
            "|  Beans|  China| 1500|\n",
            "|  Beans| Mexico| 2000|\n",
            "| Banana| Canada| 2000|\n",
            "| Banana|  China|  400|\n",
            "|Carrots| Canada| 2000|\n",
            "|Carrots|  China| 1200|\n",
            "+-------+-------+-----+\n",
            "\n"
          ]
        }
      ]
    },
    {
      "cell_type": "markdown",
      "source": [
        "# Window Functions"
      ],
      "metadata": {
        "id": "TL_ceL3309a5"
      }
    },
    {
      "cell_type": "markdown",
      "source": [
        "![spark-sql-window-functions.webp](data:image/webp;base64,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)"
      ],
      "metadata": {
        "id": "_od6I93-I8C4"
      }
    },
    {
      "cell_type": "code",
      "source": [
        "df2 = spark.read.csv(\"/content/train.csv\",inferSchema = True , header = True)"
      ],
      "metadata": {
        "id": "k6kbIfrKv7Gu"
      },
      "execution_count": 7,
      "outputs": []
    },
    {
      "cell_type": "code",
      "source": [
        "df2.show()"
      ],
      "metadata": {
        "colab": {
          "base_uri": "https://localhost:8080/"
        },
        "id": "m1jF_mVBL_BF",
        "outputId": "71a62125-904d-4eeb-90a8-433016f87043"
      },
      "execution_count": 8,
      "outputs": [
        {
          "output_type": "stream",
          "name": "stdout",
          "text": [
            "+---+---------+-----------------+---------+--------------------+----------------+---------+--------------+-------------+--------------+-----------------------+------+----------+--------------+--------+--------------------+---------------+-------------+-------------+-----------+------------------+------+--------+-----------------+-----------------+------------------------+-------------+----------------+-----------------+---------------------+---------------+--------------+------------------+-----------------------+--------------------+\n",
            "|Age|Attrition|   BusinessTravel|DailyRate|          Department|DistanceFromHome|Education|EducationField|EmployeeCount|EmployeeNumber|EnvironmentSatisfaction|Gender|HourlyRate|JobInvolvement|JobLevel|             JobRole|JobSatisfaction|MaritalStatus|MonthlyIncome|MonthlyRate|NumCompaniesWorked|Over18|OverTime|PercentSalaryHike|PerformanceRating|RelationshipSatisfaction|StandardHours|StockOptionLevel|TotalWorkingYears|TrainingTimesLastYear|WorkLifeBalance|YearsAtCompany|YearsInCurrentRole|YearsSinceLastPromotion|YearsWithCurrManager|\n",
            "+---+---------+-----------------+---------+--------------------+----------------+---------+--------------+-------------+--------------+-----------------------+------+----------+--------------+--------+--------------------+---------------+-------------+-------------+-----------+------------------+------+--------+-----------------+-----------------+------------------------+-------------+----------------+-----------------+---------------------+---------------+--------------+------------------+-----------------------+--------------------+\n",
            "| 41|        1|    Travel_Rarely|     1102|               Sales|               1|        2| Life Sciences|            1|             1|                      2|Female|        94|             3|       2|     Sales Executive|              4|       Single|         5993|      19479|                 8|     Y|     Yes|               11|                3|                       1|           80|               0|                8|                    0|              1|             6|                 4|                      0|                   5|\n",
            "| 49|        0|Travel_Frequently|      279|Research & Develo...|               8|        1| Life Sciences|            1|             2|                      3|  Male|        61|             2|       2|  Research Scientist|              2|      Married|         5130|      24907|                 1|     Y|      No|               23|                4|                       4|           80|               1|               10|                    3|              3|            10|                 7|                      1|                   7|\n",
            "| 37|        1|    Travel_Rarely|     1373|Research & Develo...|               2|        2|         Other|            1|             4|                      4|  Male|        92|             2|       1|Laboratory Techni...|              3|       Single|         2090|       2396|                 6|     Y|     Yes|               15|                3|                       2|           80|               0|                7|                    3|              3|             0|                 0|                      0|                   0|\n",
            "| 33|        0|Travel_Frequently|     1392|Research & Develo...|               3|        4| Life Sciences|            1|             5|                      4|Female|        56|             3|       1|  Research Scientist|              3|      Married|         2909|      23159|                 1|     Y|     Yes|               11|                3|                       3|           80|               0|                8|                    3|              3|             8|                 7|                      3|                   0|\n",
            "| 27|        0|    Travel_Rarely|      591|Research & Develo...|               2|        1|       Medical|            1|             7|                      1|  Male|        40|             3|       1|Laboratory Techni...|              2|      Married|         3468|      16632|                 9|     Y|      No|               12|                3|                       4|           80|               1|                6|                    3|              3|             2|                 2|                      2|                   2|\n",
            "| 32|        0|Travel_Frequently|     1005|Research & Develo...|               2|        2| Life Sciences|            1|             8|                      4|  Male|        79|             3|       1|Laboratory Techni...|              4|       Single|         3068|      11864|                 0|     Y|      No|               13|                3|                       3|           80|               0|                8|                    2|              2|             7|                 7|                      3|                   6|\n",
            "| 59|        0|    Travel_Rarely|     1324|Research & Develo...|               3|        3|       Medical|            1|            10|                      3|Female|        81|             4|       1|Laboratory Techni...|              1|      Married|         2670|       9964|                 4|     Y|     Yes|               20|                4|                       1|           80|               3|               12|                    3|              2|             1|                 0|                      0|                   0|\n",
            "| 30|        0|    Travel_Rarely|     1358|Research & Develo...|              24|        1| Life Sciences|            1|            11|                      4|  Male|        67|             3|       1|Laboratory Techni...|              3|     Divorced|         2693|      13335|                 1|     Y|      No|               22|                4|                       2|           80|               1|                1|                    2|              3|             1|                 0|                      0|                   0|\n",
            "| 38|        0|Travel_Frequently|      216|Research & Develo...|              23|        3| Life Sciences|            1|            12|                      4|  Male|        44|             2|       3|Manufacturing Dir...|              3|       Single|         9526|       8787|                 0|     Y|      No|               21|                4|                       2|           80|               0|               10|                    2|              3|             9|                 7|                      1|                   8|\n",
            "| 36|        0|    Travel_Rarely|     1299|Research & Develo...|              27|        3|       Medical|            1|            13|                      3|  Male|        94|             3|       2|Healthcare Repres...|              3|      Married|         5237|      16577|                 6|     Y|      No|               13|                3|                       2|           80|               2|               17|                    3|              2|             7|                 7|                      7|                   7|\n",
            "| 35|        0|    Travel_Rarely|      809|Research & Develo...|              16|        3|       Medical|            1|            14|                      1|  Male|        84|             4|       1|Laboratory Techni...|              2|      Married|         2426|      16479|                 0|     Y|      No|               13|                3|                       3|           80|               1|                6|                    5|              3|             5|                 4|                      0|                   3|\n",
            "| 29|        0|    Travel_Rarely|      153|Research & Develo...|              15|        2| Life Sciences|            1|            15|                      4|Female|        49|             2|       2|Laboratory Techni...|              3|       Single|         4193|      12682|                 0|     Y|     Yes|               12|                3|                       4|           80|               0|               10|                    3|              3|             9|                 5|                      0|                   8|\n",
            "| 31|        0|    Travel_Rarely|      670|Research & Develo...|              26|        1| Life Sciences|            1|            16|                      1|  Male|        31|             3|       1|  Research Scientist|              3|     Divorced|         2911|      15170|                 1|     Y|      No|               17|                3|                       4|           80|               1|                5|                    1|              2|             5|                 2|                      4|                   3|\n",
            "| 34|        0|    Travel_Rarely|     1346|Research & Develo...|              19|        2|       Medical|            1|            18|                      2|  Male|        93|             3|       1|Laboratory Techni...|              4|     Divorced|         2661|       8758|                 0|     Y|      No|               11|                3|                       3|           80|               1|                3|                    2|              3|             2|                 2|                      1|                   2|\n",
            "| 28|        1|    Travel_Rarely|      103|Research & Develo...|              24|        3| Life Sciences|            1|            19|                      3|  Male|        50|             2|       1|Laboratory Techni...|              3|       Single|         2028|      12947|                 5|     Y|     Yes|               14|                3|                       2|           80|               0|                6|                    4|              3|             4|                 2|                      0|                   3|\n",
            "| 29|        0|    Travel_Rarely|     1389|Research & Develo...|              21|        4| Life Sciences|            1|            20|                      2|Female|        51|             4|       3|Manufacturing Dir...|              1|     Divorced|         9980|      10195|                 1|     Y|      No|               11|                3|                       3|           80|               1|               10|                    1|              3|            10|                 9|                      8|                   8|\n",
            "| 32|        0|    Travel_Rarely|      334|Research & Develo...|               5|        2| Life Sciences|            1|            21|                      1|  Male|        80|             4|       1|  Research Scientist|              2|     Divorced|         3298|      15053|                 0|     Y|     Yes|               12|                3|                       4|           80|               2|                7|                    5|              2|             6|                 2|                      0|                   5|\n",
            "| 22|        0|       Non-Travel|     1123|Research & Develo...|              16|        2|       Medical|            1|            22|                      4|  Male|        96|             4|       1|Laboratory Techni...|              4|     Divorced|         2935|       7324|                 1|     Y|     Yes|               13|                3|                       2|           80|               2|                1|                    2|              2|             1|                 0|                      0|                   0|\n",
            "| 53|        0|    Travel_Rarely|     1219|               Sales|               2|        4| Life Sciences|            1|            23|                      1|Female|        78|             2|       4|             Manager|              4|      Married|        15427|      22021|                 2|     Y|      No|               16|                3|                       3|           80|               0|               31|                    3|              3|            25|                 8|                      3|                   7|\n",
            "| 38|        0|    Travel_Rarely|      371|Research & Develo...|               2|        3| Life Sciences|            1|            24|                      4|  Male|        45|             3|       1|  Research Scientist|              4|       Single|         3944|       4306|                 5|     Y|     Yes|               11|                3|                       3|           80|               0|                6|                    3|              3|             3|                 2|                      1|                   2|\n",
            "+---+---------+-----------------+---------+--------------------+----------------+---------+--------------+-------------+--------------+-----------------------+------+----------+--------------+--------+--------------------+---------------+-------------+-------------+-----------+------------------+------+--------+-----------------+-----------------+------------------------+-------------+----------------+-----------------+---------------------+---------------+--------------+------------------+-----------------------+--------------------+\n",
            "only showing top 20 rows\n",
            "\n"
          ]
        }
      ]
    },
    {
      "cell_type": "code",
      "source": [
        "df2.count()"
      ],
      "metadata": {
        "colab": {
          "base_uri": "https://localhost:8080/"
        },
        "id": "nriG-MiCMc2v",
        "outputId": "fe5cf398-2add-450f-8fe8-40deb0ca4156"
      },
      "execution_count": 9,
      "outputs": [
        {
          "output_type": "execute_result",
          "data": {
            "text/plain": [
              "1058"
            ]
          },
          "metadata": {},
          "execution_count": 9
        }
      ]
    },
    {
      "cell_type": "code",
      "source": [
        "length  = len(df2.columns)\n",
        "print(length)"
      ],
      "metadata": {
        "colab": {
          "base_uri": "https://localhost:8080/"
        },
        "id": "hSpNez9DMo4i",
        "outputId": "28f51869-6f4e-42da-827a-ddff8746a866"
      },
      "execution_count": 10,
      "outputs": [
        {
          "output_type": "stream",
          "name": "stdout",
          "text": [
            "35\n"
          ]
        }
      ]
    },
    {
      "cell_type": "code",
      "source": [
        "from pyspark.sql import Window\n",
        "import pyspark.sql.functions as F\n",
        "import pyspark.sql.types as T\n",
        " "
      ],
      "metadata": {
        "id": "g04YUbZJMzPd"
      },
      "execution_count": 11,
      "outputs": []
    },
    {
      "cell_type": "code",
      "source": [
        "windowsSpec = Window.partitionBy(\"Department\").orderBy(\"MonthlyIncome\")\n",
        "\n",
        "data =( df2.withColumn(\"list_salary\" , F.collect_list(F.col(\"MonthlyIncome\")).over(windowsSpec))\n",
        "           .withColumn(\"avg_salary\" , F.avg(F.col(\"MonthlyRate\")).over(windowsSpec))\n",
        "           .withColumn(\"total_salary\" , F.sum(F.col(\"MonthlyIncome\")).over(windowsSpec))\n",
        ")\n",
        "data.show()"
      ],
      "metadata": {
        "colab": {
          "base_uri": "https://localhost:8080/"
        },
        "id": "PnxNFKAEN_Bs",
        "outputId": "4cd9697e-fcc0-4748-f488-31874d68ebbf"
      },
      "execution_count": 12,
      "outputs": [
        {
          "output_type": "stream",
          "name": "stdout",
          "text": [
            "+---+---------+-----------------+---------+---------------+----------------+---------+----------------+-------------+--------------+-----------------------+------+----------+--------------+--------+---------------+---------------+-------------+-------------+-----------+------------------+------+--------+-----------------+-----------------+------------------------+-------------+----------------+-----------------+---------------------+---------------+--------------+------------------+-----------------------+--------------------+--------------------+------------------+------------+\n",
            "|Age|Attrition|   BusinessTravel|DailyRate|     Department|DistanceFromHome|Education|  EducationField|EmployeeCount|EmployeeNumber|EnvironmentSatisfaction|Gender|HourlyRate|JobInvolvement|JobLevel|        JobRole|JobSatisfaction|MaritalStatus|MonthlyIncome|MonthlyRate|NumCompaniesWorked|Over18|OverTime|PercentSalaryHike|PerformanceRating|RelationshipSatisfaction|StandardHours|StockOptionLevel|TotalWorkingYears|TrainingTimesLastYear|WorkLifeBalance|YearsAtCompany|YearsInCurrentRole|YearsSinceLastPromotion|YearsWithCurrManager|         list_salary|        avg_salary|total_salary|\n",
            "+---+---------+-----------------+---------+---------------+----------------+---------+----------------+-------------+--------------+-----------------------+------+----------+--------------+--------+---------------+---------------+-------------+-------------+-----------+------------------+------+--------+-----------------+-----------------+------------------------+-------------+----------------+-----------------+---------------------+---------------+--------------+------------------+-----------------------+--------------------+--------------------+------------------+------------+\n",
            "| 37|        1|    Travel_Rarely|      807|Human Resources|               6|        4| Human Resources|            1|           133|                      3|  Male|        63|             3|       1|Human Resources|              1|     Divorced|         2073|      23648|                 4|     Y|     Yes|               22|                4|                       4|           80|               0|                7|                    3|              3|             3|                 2|                      0|                   2|              [2073]|           23648.0|        2073|\n",
            "| 31|        0|    Travel_Rarely|     1398|Human Resources|               8|        2|         Medical|            1|          1461|                      4|Female|        96|             4|       1|Human Resources|              2|       Single|         2109|      24609|                 9|     Y|      No|               18|                3|                       4|           80|               0|                8|                    3|              3|             3|                 2|                      0|                   2|        [2073, 2109]|           24128.5|        4182|\n",
            "| 36|        0|    Travel_Rarely|     1041|Human Resources|              13|        3| Human Resources|            1|           829|                      3|  Male|        36|             3|       1|Human Resources|              2|      Married|         2143|      25527|                 4|     Y|      No|               13|                3|                       2|           80|               1|                8|                    2|              3|             5|                 2|                      0|                   4|  [2073, 2109, 2143]|24594.666666666668|        6325|\n",
            "| 45|        0|    Travel_Rarely|      788|Human Resources|              24|        4|         Medical|            1|          1049|                      2|  Male|        36|             3|       1|Human Resources|              2|       Single|         2177|       8318|                 1|     Y|      No|               16|                3|                       1|           80|               0|                6|                    3|              3|             6|                 3|                      0|                   4|[2073, 2109, 2143...|           20525.5|        8502|\n",
            "| 59|        0|    Travel_Rarely|      818|Human Resources|               6|        2|         Medical|            1|           321|                      2|  Male|        52|             3|       1|Human Resources|              3|      Married|         2267|      25657|                 8|     Y|      No|               17|                3|                       4|           80|               0|                7|                    2|              2|             2|                 2|                      2|                   2|[2073, 2109, 2143...|           21551.8|       10769|\n",
            "| 33|        0|    Travel_Rarely|     1075|Human Resources|               3|        2| Human Resources|            1|           910|                      4|  Male|        57|             3|       1|Human Resources|              2|     Divorced|         2277|      22650|                 3|     Y|     Yes|               11|                3|                       3|           80|               1|                7|                    4|              4|             4|                 3|                      0|                   3|[2073, 2109, 2143...|21734.833333333332|       13046|\n",
            "| 36|        0|    Travel_Rarely|     1278|Human Resources|               8|        3|   Life Sciences|            1|           878|                      1|  Male|        77|             2|       1|Human Resources|              1|      Married|         2342|       8635|                 0|     Y|      No|               21|                4|                       3|           80|               0|                6|                    3|              3|             5|                 4|                      0|                   3|[2073, 2109, 2143...|19863.428571428572|       15388|\n",
            "| 19|        1|    Travel_Rarely|      489|Human Resources|               2|        2|Technical Degree|            1|           566|                      1|  Male|        52|             2|       1|Human Resources|              4|       Single|         2564|      18437|                 1|     Y|      No|               12|                3|                       3|           80|               0|                1|                    3|              4|             1|                 0|                      0|                   0|[2073, 2109, 2143...|         19685.125|       17952|\n",
            "| 42|        0|    Travel_Rarely|      544|Human Resources|               2|        1|Technical Degree|            1|           470|                      3|  Male|        52|             3|       1|Human Resources|              3|     Divorced|         2696|      24017|                 0|     Y|     Yes|               11|                3|                       3|           80|               1|                4|                    5|              3|             3|                 2|                      1|                   0|[2073, 2109, 2143...|20166.444444444445|       20648|\n",
            "| 26|        1|Travel_Frequently|      426|Human Resources|              17|        4|   Life Sciences|            1|           608|                      2|Female|        58|             3|       1|Human Resources|              3|     Divorced|         2741|      22808|                 0|     Y|     Yes|               11|                3|                       2|           80|               1|                8|                    2|              2|             7|                 7|                      1|                   0|[2073, 2109, 2143...|           20430.6|       23389|\n",
            "| 34|        1|    Travel_Rarely|     1107|Human Resources|               9|        4|Technical Degree|            1|          1467|                      1|Female|        52|             3|       1|Human Resources|              3|      Married|         2742|       3072|                 1|     Y|      No|               15|                3|                       4|           80|               0|                2|                    0|              3|             2|                 2|                      2|                   2|[2073, 2109, 2143...|18852.545454545456|       26131|\n",
            "| 38|        0|    Travel_Rarely|      433|Human Resources|               1|        3| Human Resources|            1|          1152|                      3|  Male|        37|             4|       1|Human Resources|              3|      Married|         2844|       6004|                 1|     Y|      No|               13|                3|                       4|           80|               1|                7|                    2|              4|             7|                 6|                      5|                   0|[2073, 2109, 2143...|17781.833333333332|       28975|\n",
            "| 26|        0|    Travel_Rarely|     1355|Human Resources|              25|        1|   Life Sciences|            1|           177|                      3|Female|        61|             3|       1|Human Resources|              3|      Married|         2942|       8916|                 1|     Y|      No|               23|                4|                       4|           80|               1|                8|                    3|              3|             8|                 7|                      5|                   7|[2073, 2109, 2143...|17099.846153846152|       31917|\n",
            "| 46|        0|    Travel_Rarely|      991|Human Resources|               1|        2|   Life Sciences|            1|          1314|                      4|Female|        44|             3|       1|Human Resources|              1|       Single|         3423|      22957|                 6|     Y|      No|               12|                3|                       3|           80|               0|               10|                    3|              4|             7|                 6|                      5|                   7|[2073, 2109, 2143...|17518.214285714286|       35340|\n",
            "| 33|        0|    Travel_Rarely|      147|Human Resources|               2|        3| Human Resources|            1|          1207|                      2|  Male|        99|             3|       1|Human Resources|              3|      Married|         3600|       8429|                 1|     Y|      No|               13|                3|                       4|           80|               1|                5|                    2|              3|             5|                 4|                      1|                   4|[2073, 2109, 2143...|16912.266666666666|       38940|\n",
            "| 34|        0|    Travel_Rarely|      829|Human Resources|               3|        2| Human Resources|            1|           847|                      3|  Male|        88|             3|       1|Human Resources|              4|      Married|         3737|       2243|                 0|     Y|      No|               19|                3|                       3|           80|               1|                4|                    1|              1|             3|                 2|                      0|                   2|[2073, 2109, 2143...|        15995.4375|       42677|\n",
            "| 35|        0|    Travel_Rarely|      528|Human Resources|               8|        4|Technical Degree|            1|          1164|                      3|  Male|       100|             3|       1|Human Resources|              3|       Single|         4323|       7108|                 1|     Y|      No|               17|                3|                       2|           80|               0|                6|                    2|              1|             5|                 4|                      1|                   4|[2073, 2109, 2143...| 15472.64705882353|       47000|\n",
            "| 34|        0|Travel_Frequently|      648|Human Resources|              11|        3|   Life Sciences|            1|          1289|                      3|  Male|        56|             2|       2|Human Resources|              2|      Married|         4490|      21833|                 4|     Y|      No|               11|                3|                       4|           80|               2|               14|                    5|              4|            10|                 9|                      1|                   8|[2073, 2109, 2143...|           15826.0|       51490|\n",
            "| 28|        0|    Travel_Rarely|     1169|Human Resources|               8|        2|         Medical|            1|           869|                      2|  Male|        63|             2|       1|Human Resources|              4|     Divorced|         4936|      23965|                 1|     Y|      No|               13|                3|                       4|           80|               1|                6|                    6|              3|             5|                 1|                      0|                   4|[2073, 2109, 2143...|16254.368421052632|       56426|\n",
            "| 46|        0|    Travel_Rarely|      945|Human Resources|               5|        2|         Medical|            1|           103|                      2|  Male|        80|             3|       2|Human Resources|              2|     Divorced|         5021|      10425|                 8|     Y|     Yes|               22|                4|                       4|           80|               1|               16|                    2|              3|             4|                 2|                      0|                   2|[2073, 2109, 2143...|           15962.9|       61447|\n",
            "+---+---------+-----------------+---------+---------------+----------------+---------+----------------+-------------+--------------+-----------------------+------+----------+--------------+--------+---------------+---------------+-------------+-------------+-----------+------------------+------+--------+-----------------+-----------------+------------------------+-------------+----------------+-----------------+---------------------+---------------+--------------+------------------+-----------------------+--------------------+--------------------+------------------+------------+\n",
            "only showing top 20 rows\n",
            "\n"
          ]
        }
      ]
    },
    {
      "cell_type": "code",
      "source": [
        "df2.select(\"Department\").distinct().show()"
      ],
      "metadata": {
        "colab": {
          "base_uri": "https://localhost:8080/"
        },
        "id": "wnA06P1JQrk6",
        "outputId": "810df536-8882-470f-b10e-0b7fc15b63d9"
      },
      "execution_count": 13,
      "outputs": [
        {
          "output_type": "stream",
          "name": "stdout",
          "text": [
            "+--------------------+\n",
            "|          Department|\n",
            "+--------------------+\n",
            "|               Sales|\n",
            "|Research & Develo...|\n",
            "|     Human Resources|\n",
            "+--------------------+\n",
            "\n"
          ]
        }
      ]
    },
    {
      "cell_type": "markdown",
      "source": [
        "**row_number():** This function assigns a unique sequential number to each row within a partition, based on the ordering specified in the window.row_number() requires orderBy() in windowsSpec"
      ],
      "metadata": {
        "id": "eoFy_rR7WmPH"
      }
    },
    {
      "cell_type": "code",
      "source": [
        "row_num = df2.withColumn(\"Row_Num\", F.row_number().over(windowsSpec))\n",
        "row_num.show()"
      ],
      "metadata": {
        "colab": {
          "base_uri": "https://localhost:8080/"
        },
        "id": "r0qMNhisRtcb",
        "outputId": "57eb3766-fafa-4abb-99c8-57399a0afc83"
      },
      "execution_count": 14,
      "outputs": [
        {
          "output_type": "stream",
          "name": "stdout",
          "text": [
            "+---+---------+-----------------+---------+---------------+----------------+---------+----------------+-------------+--------------+-----------------------+------+----------+--------------+--------+---------------+---------------+-------------+-------------+-----------+------------------+------+--------+-----------------+-----------------+------------------------+-------------+----------------+-----------------+---------------------+---------------+--------------+------------------+-----------------------+--------------------+-------+\n",
            "|Age|Attrition|   BusinessTravel|DailyRate|     Department|DistanceFromHome|Education|  EducationField|EmployeeCount|EmployeeNumber|EnvironmentSatisfaction|Gender|HourlyRate|JobInvolvement|JobLevel|        JobRole|JobSatisfaction|MaritalStatus|MonthlyIncome|MonthlyRate|NumCompaniesWorked|Over18|OverTime|PercentSalaryHike|PerformanceRating|RelationshipSatisfaction|StandardHours|StockOptionLevel|TotalWorkingYears|TrainingTimesLastYear|WorkLifeBalance|YearsAtCompany|YearsInCurrentRole|YearsSinceLastPromotion|YearsWithCurrManager|Row_Num|\n",
            "+---+---------+-----------------+---------+---------------+----------------+---------+----------------+-------------+--------------+-----------------------+------+----------+--------------+--------+---------------+---------------+-------------+-------------+-----------+------------------+------+--------+-----------------+-----------------+------------------------+-------------+----------------+-----------------+---------------------+---------------+--------------+------------------+-----------------------+--------------------+-------+\n",
            "| 37|        1|    Travel_Rarely|      807|Human Resources|               6|        4| Human Resources|            1|           133|                      3|  Male|        63|             3|       1|Human Resources|              1|     Divorced|         2073|      23648|                 4|     Y|     Yes|               22|                4|                       4|           80|               0|                7|                    3|              3|             3|                 2|                      0|                   2|      1|\n",
            "| 31|        0|    Travel_Rarely|     1398|Human Resources|               8|        2|         Medical|            1|          1461|                      4|Female|        96|             4|       1|Human Resources|              2|       Single|         2109|      24609|                 9|     Y|      No|               18|                3|                       4|           80|               0|                8|                    3|              3|             3|                 2|                      0|                   2|      2|\n",
            "| 36|        0|    Travel_Rarely|     1041|Human Resources|              13|        3| Human Resources|            1|           829|                      3|  Male|        36|             3|       1|Human Resources|              2|      Married|         2143|      25527|                 4|     Y|      No|               13|                3|                       2|           80|               1|                8|                    2|              3|             5|                 2|                      0|                   4|      3|\n",
            "| 45|        0|    Travel_Rarely|      788|Human Resources|              24|        4|         Medical|            1|          1049|                      2|  Male|        36|             3|       1|Human Resources|              2|       Single|         2177|       8318|                 1|     Y|      No|               16|                3|                       1|           80|               0|                6|                    3|              3|             6|                 3|                      0|                   4|      4|\n",
            "| 59|        0|    Travel_Rarely|      818|Human Resources|               6|        2|         Medical|            1|           321|                      2|  Male|        52|             3|       1|Human Resources|              3|      Married|         2267|      25657|                 8|     Y|      No|               17|                3|                       4|           80|               0|                7|                    2|              2|             2|                 2|                      2|                   2|      5|\n",
            "| 33|        0|    Travel_Rarely|     1075|Human Resources|               3|        2| Human Resources|            1|           910|                      4|  Male|        57|             3|       1|Human Resources|              2|     Divorced|         2277|      22650|                 3|     Y|     Yes|               11|                3|                       3|           80|               1|                7|                    4|              4|             4|                 3|                      0|                   3|      6|\n",
            "| 36|        0|    Travel_Rarely|     1278|Human Resources|               8|        3|   Life Sciences|            1|           878|                      1|  Male|        77|             2|       1|Human Resources|              1|      Married|         2342|       8635|                 0|     Y|      No|               21|                4|                       3|           80|               0|                6|                    3|              3|             5|                 4|                      0|                   3|      7|\n",
            "| 19|        1|    Travel_Rarely|      489|Human Resources|               2|        2|Technical Degree|            1|           566|                      1|  Male|        52|             2|       1|Human Resources|              4|       Single|         2564|      18437|                 1|     Y|      No|               12|                3|                       3|           80|               0|                1|                    3|              4|             1|                 0|                      0|                   0|      8|\n",
            "| 42|        0|    Travel_Rarely|      544|Human Resources|               2|        1|Technical Degree|            1|           470|                      3|  Male|        52|             3|       1|Human Resources|              3|     Divorced|         2696|      24017|                 0|     Y|     Yes|               11|                3|                       3|           80|               1|                4|                    5|              3|             3|                 2|                      1|                   0|      9|\n",
            "| 26|        1|Travel_Frequently|      426|Human Resources|              17|        4|   Life Sciences|            1|           608|                      2|Female|        58|             3|       1|Human Resources|              3|     Divorced|         2741|      22808|                 0|     Y|     Yes|               11|                3|                       2|           80|               1|                8|                    2|              2|             7|                 7|                      1|                   0|     10|\n",
            "| 34|        1|    Travel_Rarely|     1107|Human Resources|               9|        4|Technical Degree|            1|          1467|                      1|Female|        52|             3|       1|Human Resources|              3|      Married|         2742|       3072|                 1|     Y|      No|               15|                3|                       4|           80|               0|                2|                    0|              3|             2|                 2|                      2|                   2|     11|\n",
            "| 38|        0|    Travel_Rarely|      433|Human Resources|               1|        3| Human Resources|            1|          1152|                      3|  Male|        37|             4|       1|Human Resources|              3|      Married|         2844|       6004|                 1|     Y|      No|               13|                3|                       4|           80|               1|                7|                    2|              4|             7|                 6|                      5|                   0|     12|\n",
            "| 26|        0|    Travel_Rarely|     1355|Human Resources|              25|        1|   Life Sciences|            1|           177|                      3|Female|        61|             3|       1|Human Resources|              3|      Married|         2942|       8916|                 1|     Y|      No|               23|                4|                       4|           80|               1|                8|                    3|              3|             8|                 7|                      5|                   7|     13|\n",
            "| 46|        0|    Travel_Rarely|      991|Human Resources|               1|        2|   Life Sciences|            1|          1314|                      4|Female|        44|             3|       1|Human Resources|              1|       Single|         3423|      22957|                 6|     Y|      No|               12|                3|                       3|           80|               0|               10|                    3|              4|             7|                 6|                      5|                   7|     14|\n",
            "| 33|        0|    Travel_Rarely|      147|Human Resources|               2|        3| Human Resources|            1|          1207|                      2|  Male|        99|             3|       1|Human Resources|              3|      Married|         3600|       8429|                 1|     Y|      No|               13|                3|                       4|           80|               1|                5|                    2|              3|             5|                 4|                      1|                   4|     15|\n",
            "| 34|        0|    Travel_Rarely|      829|Human Resources|               3|        2| Human Resources|            1|           847|                      3|  Male|        88|             3|       1|Human Resources|              4|      Married|         3737|       2243|                 0|     Y|      No|               19|                3|                       3|           80|               1|                4|                    1|              1|             3|                 2|                      0|                   2|     16|\n",
            "| 35|        0|    Travel_Rarely|      528|Human Resources|               8|        4|Technical Degree|            1|          1164|                      3|  Male|       100|             3|       1|Human Resources|              3|       Single|         4323|       7108|                 1|     Y|      No|               17|                3|                       2|           80|               0|                6|                    2|              1|             5|                 4|                      1|                   4|     17|\n",
            "| 34|        0|Travel_Frequently|      648|Human Resources|              11|        3|   Life Sciences|            1|          1289|                      3|  Male|        56|             2|       2|Human Resources|              2|      Married|         4490|      21833|                 4|     Y|      No|               11|                3|                       4|           80|               2|               14|                    5|              4|            10|                 9|                      1|                   8|     18|\n",
            "| 28|        0|    Travel_Rarely|     1169|Human Resources|               8|        2|         Medical|            1|           869|                      2|  Male|        63|             2|       1|Human Resources|              4|     Divorced|         4936|      23965|                 1|     Y|      No|               13|                3|                       4|           80|               1|                6|                    6|              3|             5|                 1|                      0|                   4|     19|\n",
            "| 46|        0|    Travel_Rarely|      945|Human Resources|               5|        2|         Medical|            1|           103|                      2|  Male|        80|             3|       2|Human Resources|              2|     Divorced|         5021|      10425|                 8|     Y|     Yes|               22|                4|                       4|           80|               1|               16|                    2|              3|             4|                 2|                      0|                   2|     20|\n",
            "+---+---------+-----------------+---------+---------------+----------------+---------+----------------+-------------+--------------+-----------------------+------+----------+--------------+--------+---------------+---------------+-------------+-------------+-----------+------------------+------+--------+-----------------+-----------------+------------------------+-------------+----------------+-----------------+---------------------+---------------+--------------+------------------+-----------------------+--------------------+-------+\n",
            "only showing top 20 rows\n",
            "\n"
          ]
        }
      ]
    },
    {
      "cell_type": "markdown",
      "source": [
        "rank() , dense_rank() , persent_rank()"
      ],
      "metadata": {
        "id": "vEDnaJjTYmxT"
      }
    },
    {
      "cell_type": "markdown",
      "source": [
        "**rank()**: This function assigns a rank to each row within a partition based on the ordering specified in the window, where rows with the same value are assigned the same rank and the next rank is skipped."
      ],
      "metadata": {
        "id": "pggp963NZsRM"
      }
    },
    {
      "cell_type": "markdown",
      "source": [
        "agar orderBy mai 2 number ya entries same rahe \n",
        "\n",
        "Ex:\n",
        "\n",
        "    sal     Rank\n",
        "    1122     1\n",
        "    1122     1\n",
        "    456      3"
      ],
      "metadata": {
        "id": "8h9zSmrRaLad"
      }
    },
    {
      "cell_type": "code",
      "source": [
        "rank_df = df2.withColumn(\"Rank_Func\", F.rank().over(windowsSpec))\n",
        "rank_df.show()"
      ],
      "metadata": {
        "colab": {
          "base_uri": "https://localhost:8080/"
        },
        "id": "Z6FnzS7FYKi9",
        "outputId": "e1d03331-8bae-4c06-f613-c02d0c248e61"
      },
      "execution_count": 15,
      "outputs": [
        {
          "output_type": "stream",
          "name": "stdout",
          "text": [
            "+---+---------+-----------------+---------+---------------+----------------+---------+----------------+-------------+--------------+-----------------------+------+----------+--------------+--------+---------------+---------------+-------------+-------------+-----------+------------------+------+--------+-----------------+-----------------+------------------------+-------------+----------------+-----------------+---------------------+---------------+--------------+------------------+-----------------------+--------------------+---------+\n",
            "|Age|Attrition|   BusinessTravel|DailyRate|     Department|DistanceFromHome|Education|  EducationField|EmployeeCount|EmployeeNumber|EnvironmentSatisfaction|Gender|HourlyRate|JobInvolvement|JobLevel|        JobRole|JobSatisfaction|MaritalStatus|MonthlyIncome|MonthlyRate|NumCompaniesWorked|Over18|OverTime|PercentSalaryHike|PerformanceRating|RelationshipSatisfaction|StandardHours|StockOptionLevel|TotalWorkingYears|TrainingTimesLastYear|WorkLifeBalance|YearsAtCompany|YearsInCurrentRole|YearsSinceLastPromotion|YearsWithCurrManager|Rank_Func|\n",
            "+---+---------+-----------------+---------+---------------+----------------+---------+----------------+-------------+--------------+-----------------------+------+----------+--------------+--------+---------------+---------------+-------------+-------------+-----------+------------------+------+--------+-----------------+-----------------+------------------------+-------------+----------------+-----------------+---------------------+---------------+--------------+------------------+-----------------------+--------------------+---------+\n",
            "| 37|        1|    Travel_Rarely|      807|Human Resources|               6|        4| Human Resources|            1|           133|                      3|  Male|        63|             3|       1|Human Resources|              1|     Divorced|         2073|      23648|                 4|     Y|     Yes|               22|                4|                       4|           80|               0|                7|                    3|              3|             3|                 2|                      0|                   2|        1|\n",
            "| 31|        0|    Travel_Rarely|     1398|Human Resources|               8|        2|         Medical|            1|          1461|                      4|Female|        96|             4|       1|Human Resources|              2|       Single|         2109|      24609|                 9|     Y|      No|               18|                3|                       4|           80|               0|                8|                    3|              3|             3|                 2|                      0|                   2|        2|\n",
            "| 36|        0|    Travel_Rarely|     1041|Human Resources|              13|        3| Human Resources|            1|           829|                      3|  Male|        36|             3|       1|Human Resources|              2|      Married|         2143|      25527|                 4|     Y|      No|               13|                3|                       2|           80|               1|                8|                    2|              3|             5|                 2|                      0|                   4|        3|\n",
            "| 45|        0|    Travel_Rarely|      788|Human Resources|              24|        4|         Medical|            1|          1049|                      2|  Male|        36|             3|       1|Human Resources|              2|       Single|         2177|       8318|                 1|     Y|      No|               16|                3|                       1|           80|               0|                6|                    3|              3|             6|                 3|                      0|                   4|        4|\n",
            "| 59|        0|    Travel_Rarely|      818|Human Resources|               6|        2|         Medical|            1|           321|                      2|  Male|        52|             3|       1|Human Resources|              3|      Married|         2267|      25657|                 8|     Y|      No|               17|                3|                       4|           80|               0|                7|                    2|              2|             2|                 2|                      2|                   2|        5|\n",
            "| 33|        0|    Travel_Rarely|     1075|Human Resources|               3|        2| Human Resources|            1|           910|                      4|  Male|        57|             3|       1|Human Resources|              2|     Divorced|         2277|      22650|                 3|     Y|     Yes|               11|                3|                       3|           80|               1|                7|                    4|              4|             4|                 3|                      0|                   3|        6|\n",
            "| 36|        0|    Travel_Rarely|     1278|Human Resources|               8|        3|   Life Sciences|            1|           878|                      1|  Male|        77|             2|       1|Human Resources|              1|      Married|         2342|       8635|                 0|     Y|      No|               21|                4|                       3|           80|               0|                6|                    3|              3|             5|                 4|                      0|                   3|        7|\n",
            "| 19|        1|    Travel_Rarely|      489|Human Resources|               2|        2|Technical Degree|            1|           566|                      1|  Male|        52|             2|       1|Human Resources|              4|       Single|         2564|      18437|                 1|     Y|      No|               12|                3|                       3|           80|               0|                1|                    3|              4|             1|                 0|                      0|                   0|        8|\n",
            "| 42|        0|    Travel_Rarely|      544|Human Resources|               2|        1|Technical Degree|            1|           470|                      3|  Male|        52|             3|       1|Human Resources|              3|     Divorced|         2696|      24017|                 0|     Y|     Yes|               11|                3|                       3|           80|               1|                4|                    5|              3|             3|                 2|                      1|                   0|        9|\n",
            "| 26|        1|Travel_Frequently|      426|Human Resources|              17|        4|   Life Sciences|            1|           608|                      2|Female|        58|             3|       1|Human Resources|              3|     Divorced|         2741|      22808|                 0|     Y|     Yes|               11|                3|                       2|           80|               1|                8|                    2|              2|             7|                 7|                      1|                   0|       10|\n",
            "| 34|        1|    Travel_Rarely|     1107|Human Resources|               9|        4|Technical Degree|            1|          1467|                      1|Female|        52|             3|       1|Human Resources|              3|      Married|         2742|       3072|                 1|     Y|      No|               15|                3|                       4|           80|               0|                2|                    0|              3|             2|                 2|                      2|                   2|       11|\n",
            "| 38|        0|    Travel_Rarely|      433|Human Resources|               1|        3| Human Resources|            1|          1152|                      3|  Male|        37|             4|       1|Human Resources|              3|      Married|         2844|       6004|                 1|     Y|      No|               13|                3|                       4|           80|               1|                7|                    2|              4|             7|                 6|                      5|                   0|       12|\n",
            "| 26|        0|    Travel_Rarely|     1355|Human Resources|              25|        1|   Life Sciences|            1|           177|                      3|Female|        61|             3|       1|Human Resources|              3|      Married|         2942|       8916|                 1|     Y|      No|               23|                4|                       4|           80|               1|                8|                    3|              3|             8|                 7|                      5|                   7|       13|\n",
            "| 46|        0|    Travel_Rarely|      991|Human Resources|               1|        2|   Life Sciences|            1|          1314|                      4|Female|        44|             3|       1|Human Resources|              1|       Single|         3423|      22957|                 6|     Y|      No|               12|                3|                       3|           80|               0|               10|                    3|              4|             7|                 6|                      5|                   7|       14|\n",
            "| 33|        0|    Travel_Rarely|      147|Human Resources|               2|        3| Human Resources|            1|          1207|                      2|  Male|        99|             3|       1|Human Resources|              3|      Married|         3600|       8429|                 1|     Y|      No|               13|                3|                       4|           80|               1|                5|                    2|              3|             5|                 4|                      1|                   4|       15|\n",
            "| 34|        0|    Travel_Rarely|      829|Human Resources|               3|        2| Human Resources|            1|           847|                      3|  Male|        88|             3|       1|Human Resources|              4|      Married|         3737|       2243|                 0|     Y|      No|               19|                3|                       3|           80|               1|                4|                    1|              1|             3|                 2|                      0|                   2|       16|\n",
            "| 35|        0|    Travel_Rarely|      528|Human Resources|               8|        4|Technical Degree|            1|          1164|                      3|  Male|       100|             3|       1|Human Resources|              3|       Single|         4323|       7108|                 1|     Y|      No|               17|                3|                       2|           80|               0|                6|                    2|              1|             5|                 4|                      1|                   4|       17|\n",
            "| 34|        0|Travel_Frequently|      648|Human Resources|              11|        3|   Life Sciences|            1|          1289|                      3|  Male|        56|             2|       2|Human Resources|              2|      Married|         4490|      21833|                 4|     Y|      No|               11|                3|                       4|           80|               2|               14|                    5|              4|            10|                 9|                      1|                   8|       18|\n",
            "| 28|        0|    Travel_Rarely|     1169|Human Resources|               8|        2|         Medical|            1|           869|                      2|  Male|        63|             2|       1|Human Resources|              4|     Divorced|         4936|      23965|                 1|     Y|      No|               13|                3|                       4|           80|               1|                6|                    6|              3|             5|                 1|                      0|                   4|       19|\n",
            "| 46|        0|    Travel_Rarely|      945|Human Resources|               5|        2|         Medical|            1|           103|                      2|  Male|        80|             3|       2|Human Resources|              2|     Divorced|         5021|      10425|                 8|     Y|     Yes|               22|                4|                       4|           80|               1|               16|                    2|              3|             4|                 2|                      0|                   2|       20|\n",
            "+---+---------+-----------------+---------+---------------+----------------+---------+----------------+-------------+--------------+-----------------------+------+----------+--------------+--------+---------------+---------------+-------------+-------------+-----------+------------------+------+--------+-----------------+-----------------+------------------------+-------------+----------------+-----------------+---------------------+---------------+--------------+------------------+-----------------------+--------------------+---------+\n",
            "only showing top 20 rows\n",
            "\n"
          ]
        }
      ]
    },
    {
      "cell_type": "markdown",
      "source": [
        "**dense_rank()**: This function assigns a rank to each row within a partition based on the ordering specified in the window, where rows with the same value are assigned the same rank and the next rank is not skipped"
      ],
      "metadata": {
        "id": "OXRH8nNaa8_W"
      }
    },
    {
      "cell_type": "markdown",
      "source": [
        "Ex:\n",
        "\n",
        "    sal     Rank\n",
        "    1122     1\n",
        "    1122     1\n",
        "    456      2"
      ],
      "metadata": {
        "id": "XKXGTQ_SbjwU"
      }
    },
    {
      "cell_type": "code",
      "source": [
        "den_rank_df = df2.withColumn(\"Dense_Rank\" , F.dense_rank().over(windowsSpec))\n",
        "den_rank_df.show()"
      ],
      "metadata": {
        "colab": {
          "base_uri": "https://localhost:8080/"
        },
        "id": "3Ojr3EllaD0w",
        "outputId": "858f71d4-1c7b-4921-c4ba-b789f5f995f3"
      },
      "execution_count": 16,
      "outputs": [
        {
          "output_type": "stream",
          "name": "stdout",
          "text": [
            "+---+---------+-----------------+---------+---------------+----------------+---------+----------------+-------------+--------------+-----------------------+------+----------+--------------+--------+---------------+---------------+-------------+-------------+-----------+------------------+------+--------+-----------------+-----------------+------------------------+-------------+----------------+-----------------+---------------------+---------------+--------------+------------------+-----------------------+--------------------+----------+\n",
            "|Age|Attrition|   BusinessTravel|DailyRate|     Department|DistanceFromHome|Education|  EducationField|EmployeeCount|EmployeeNumber|EnvironmentSatisfaction|Gender|HourlyRate|JobInvolvement|JobLevel|        JobRole|JobSatisfaction|MaritalStatus|MonthlyIncome|MonthlyRate|NumCompaniesWorked|Over18|OverTime|PercentSalaryHike|PerformanceRating|RelationshipSatisfaction|StandardHours|StockOptionLevel|TotalWorkingYears|TrainingTimesLastYear|WorkLifeBalance|YearsAtCompany|YearsInCurrentRole|YearsSinceLastPromotion|YearsWithCurrManager|Dense_Rank|\n",
            "+---+---------+-----------------+---------+---------------+----------------+---------+----------------+-------------+--------------+-----------------------+------+----------+--------------+--------+---------------+---------------+-------------+-------------+-----------+------------------+------+--------+-----------------+-----------------+------------------------+-------------+----------------+-----------------+---------------------+---------------+--------------+------------------+-----------------------+--------------------+----------+\n",
            "| 37|        1|    Travel_Rarely|      807|Human Resources|               6|        4| Human Resources|            1|           133|                      3|  Male|        63|             3|       1|Human Resources|              1|     Divorced|         2073|      23648|                 4|     Y|     Yes|               22|                4|                       4|           80|               0|                7|                    3|              3|             3|                 2|                      0|                   2|         1|\n",
            "| 31|        0|    Travel_Rarely|     1398|Human Resources|               8|        2|         Medical|            1|          1461|                      4|Female|        96|             4|       1|Human Resources|              2|       Single|         2109|      24609|                 9|     Y|      No|               18|                3|                       4|           80|               0|                8|                    3|              3|             3|                 2|                      0|                   2|         2|\n",
            "| 36|        0|    Travel_Rarely|     1041|Human Resources|              13|        3| Human Resources|            1|           829|                      3|  Male|        36|             3|       1|Human Resources|              2|      Married|         2143|      25527|                 4|     Y|      No|               13|                3|                       2|           80|               1|                8|                    2|              3|             5|                 2|                      0|                   4|         3|\n",
            "| 45|        0|    Travel_Rarely|      788|Human Resources|              24|        4|         Medical|            1|          1049|                      2|  Male|        36|             3|       1|Human Resources|              2|       Single|         2177|       8318|                 1|     Y|      No|               16|                3|                       1|           80|               0|                6|                    3|              3|             6|                 3|                      0|                   4|         4|\n",
            "| 59|        0|    Travel_Rarely|      818|Human Resources|               6|        2|         Medical|            1|           321|                      2|  Male|        52|             3|       1|Human Resources|              3|      Married|         2267|      25657|                 8|     Y|      No|               17|                3|                       4|           80|               0|                7|                    2|              2|             2|                 2|                      2|                   2|         5|\n",
            "| 33|        0|    Travel_Rarely|     1075|Human Resources|               3|        2| Human Resources|            1|           910|                      4|  Male|        57|             3|       1|Human Resources|              2|     Divorced|         2277|      22650|                 3|     Y|     Yes|               11|                3|                       3|           80|               1|                7|                    4|              4|             4|                 3|                      0|                   3|         6|\n",
            "| 36|        0|    Travel_Rarely|     1278|Human Resources|               8|        3|   Life Sciences|            1|           878|                      1|  Male|        77|             2|       1|Human Resources|              1|      Married|         2342|       8635|                 0|     Y|      No|               21|                4|                       3|           80|               0|                6|                    3|              3|             5|                 4|                      0|                   3|         7|\n",
            "| 19|        1|    Travel_Rarely|      489|Human Resources|               2|        2|Technical Degree|            1|           566|                      1|  Male|        52|             2|       1|Human Resources|              4|       Single|         2564|      18437|                 1|     Y|      No|               12|                3|                       3|           80|               0|                1|                    3|              4|             1|                 0|                      0|                   0|         8|\n",
            "| 42|        0|    Travel_Rarely|      544|Human Resources|               2|        1|Technical Degree|            1|           470|                      3|  Male|        52|             3|       1|Human Resources|              3|     Divorced|         2696|      24017|                 0|     Y|     Yes|               11|                3|                       3|           80|               1|                4|                    5|              3|             3|                 2|                      1|                   0|         9|\n",
            "| 26|        1|Travel_Frequently|      426|Human Resources|              17|        4|   Life Sciences|            1|           608|                      2|Female|        58|             3|       1|Human Resources|              3|     Divorced|         2741|      22808|                 0|     Y|     Yes|               11|                3|                       2|           80|               1|                8|                    2|              2|             7|                 7|                      1|                   0|        10|\n",
            "| 34|        1|    Travel_Rarely|     1107|Human Resources|               9|        4|Technical Degree|            1|          1467|                      1|Female|        52|             3|       1|Human Resources|              3|      Married|         2742|       3072|                 1|     Y|      No|               15|                3|                       4|           80|               0|                2|                    0|              3|             2|                 2|                      2|                   2|        11|\n",
            "| 38|        0|    Travel_Rarely|      433|Human Resources|               1|        3| Human Resources|            1|          1152|                      3|  Male|        37|             4|       1|Human Resources|              3|      Married|         2844|       6004|                 1|     Y|      No|               13|                3|                       4|           80|               1|                7|                    2|              4|             7|                 6|                      5|                   0|        12|\n",
            "| 26|        0|    Travel_Rarely|     1355|Human Resources|              25|        1|   Life Sciences|            1|           177|                      3|Female|        61|             3|       1|Human Resources|              3|      Married|         2942|       8916|                 1|     Y|      No|               23|                4|                       4|           80|               1|                8|                    3|              3|             8|                 7|                      5|                   7|        13|\n",
            "| 46|        0|    Travel_Rarely|      991|Human Resources|               1|        2|   Life Sciences|            1|          1314|                      4|Female|        44|             3|       1|Human Resources|              1|       Single|         3423|      22957|                 6|     Y|      No|               12|                3|                       3|           80|               0|               10|                    3|              4|             7|                 6|                      5|                   7|        14|\n",
            "| 33|        0|    Travel_Rarely|      147|Human Resources|               2|        3| Human Resources|            1|          1207|                      2|  Male|        99|             3|       1|Human Resources|              3|      Married|         3600|       8429|                 1|     Y|      No|               13|                3|                       4|           80|               1|                5|                    2|              3|             5|                 4|                      1|                   4|        15|\n",
            "| 34|        0|    Travel_Rarely|      829|Human Resources|               3|        2| Human Resources|            1|           847|                      3|  Male|        88|             3|       1|Human Resources|              4|      Married|         3737|       2243|                 0|     Y|      No|               19|                3|                       3|           80|               1|                4|                    1|              1|             3|                 2|                      0|                   2|        16|\n",
            "| 35|        0|    Travel_Rarely|      528|Human Resources|               8|        4|Technical Degree|            1|          1164|                      3|  Male|       100|             3|       1|Human Resources|              3|       Single|         4323|       7108|                 1|     Y|      No|               17|                3|                       2|           80|               0|                6|                    2|              1|             5|                 4|                      1|                   4|        17|\n",
            "| 34|        0|Travel_Frequently|      648|Human Resources|              11|        3|   Life Sciences|            1|          1289|                      3|  Male|        56|             2|       2|Human Resources|              2|      Married|         4490|      21833|                 4|     Y|      No|               11|                3|                       4|           80|               2|               14|                    5|              4|            10|                 9|                      1|                   8|        18|\n",
            "| 28|        0|    Travel_Rarely|     1169|Human Resources|               8|        2|         Medical|            1|           869|                      2|  Male|        63|             2|       1|Human Resources|              4|     Divorced|         4936|      23965|                 1|     Y|      No|               13|                3|                       4|           80|               1|                6|                    6|              3|             5|                 1|                      0|                   4|        19|\n",
            "| 46|        0|    Travel_Rarely|      945|Human Resources|               5|        2|         Medical|            1|           103|                      2|  Male|        80|             3|       2|Human Resources|              2|     Divorced|         5021|      10425|                 8|     Y|     Yes|               22|                4|                       4|           80|               1|               16|                    2|              3|             4|                 2|                      0|                   2|        20|\n",
            "+---+---------+-----------------+---------+---------------+----------------+---------+----------------+-------------+--------------+-----------------------+------+----------+--------------+--------+---------------+---------------+-------------+-------------+-----------+------------------+------+--------+-----------------+-----------------+------------------------+-------------+----------------+-----------------+---------------------+---------------+--------------+------------------+-----------------------+--------------------+----------+\n",
            "only showing top 20 rows\n",
            "\n"
          ]
        }
      ]
    },
    {
      "cell_type": "markdown",
      "source": [
        "**percent_rank(): **This function assigns a percentile rank to each row within a partition based on the ordering specified in the window, where the rank is calculated as (rank - 1) / (total rows - 1).\n"
      ],
      "metadata": {
        "id": "aS2A_ZiqcEji"
      }
    },
    {
      "cell_type": "code",
      "source": [
        "\n",
        "persent_rank_df = df2.withColumn(\"Dense_Rank\" , F.persent_rank().over(windowsSpec))"
      ],
      "metadata": {
        "colab": {
          "base_uri": "https://localhost:8080/",
          "height": 166
        },
        "id": "PxHxbsDRbaEj",
        "outputId": "7fbf3964-67a5-4f7b-b9a2-5aa6bea5ba31"
      },
      "execution_count": 17,
      "outputs": [
        {
          "output_type": "error",
          "ename": "AttributeError",
          "evalue": "ignored",
          "traceback": [
            "\u001b[0;31m---------------------------------------------------------------------------\u001b[0m",
            "\u001b[0;31mAttributeError\u001b[0m                            Traceback (most recent call last)",
            "\u001b[0;32m<ipython-input-17-fd18448cab3b>\u001b[0m in \u001b[0;36m<cell line: 1>\u001b[0;34m()\u001b[0m\n\u001b[0;32m----> 1\u001b[0;31m \u001b[0mpersent_rank_df\u001b[0m \u001b[0;34m=\u001b[0m \u001b[0mdf2\u001b[0m\u001b[0;34m.\u001b[0m\u001b[0mwithColumn\u001b[0m\u001b[0;34m(\u001b[0m\u001b[0;34m\"Dense_Rank\"\u001b[0m \u001b[0;34m,\u001b[0m \u001b[0mF\u001b[0m\u001b[0;34m.\u001b[0m\u001b[0mpersent_rank\u001b[0m\u001b[0;34m(\u001b[0m\u001b[0;34m)\u001b[0m\u001b[0;34m.\u001b[0m\u001b[0mover\u001b[0m\u001b[0;34m(\u001b[0m\u001b[0mwindowsSpec\u001b[0m\u001b[0;34m)\u001b[0m\u001b[0;34m)\u001b[0m\u001b[0;34m\u001b[0m\u001b[0;34m\u001b[0m\u001b[0m\n\u001b[0m",
            "\u001b[0;31mAttributeError\u001b[0m: module 'pyspark.sql.functions' has no attribute 'persent_rank'"
          ]
        }
      ]
    },
    {
      "cell_type": "markdown",
      "source": [],
      "metadata": {
        "id": "3nLKxtdnboIP"
      }
    },
    {
      "cell_type": "markdown",
      "source": [
        "\n",
        "\n",
        "**ntile()**: This function assigns a group number to each row within a partition based on the ordering specified in the window, where the number of groups is specified by the user."
      ],
      "metadata": {
        "id": "a0SMRVetf0Ds"
      }
    },
    {
      "cell_type": "code",
      "source": [
        "ntile_df = df2.withColumn(\"ntile_df\" , F.ntile(4).over(windowsSpec))\n",
        "ntile_df.show()"
      ],
      "metadata": {
        "colab": {
          "base_uri": "https://localhost:8080/"
        },
        "id": "R3cNWPeVf23e",
        "outputId": "26eb8f35-d0b9-41c5-d8a1-0ab94cbe43f5"
      },
      "execution_count": 18,
      "outputs": [
        {
          "output_type": "stream",
          "name": "stdout",
          "text": [
            "+---+---------+-----------------+---------+---------------+----------------+---------+----------------+-------------+--------------+-----------------------+------+----------+--------------+--------+---------------+---------------+-------------+-------------+-----------+------------------+------+--------+-----------------+-----------------+------------------------+-------------+----------------+-----------------+---------------------+---------------+--------------+------------------+-----------------------+--------------------+--------+\n",
            "|Age|Attrition|   BusinessTravel|DailyRate|     Department|DistanceFromHome|Education|  EducationField|EmployeeCount|EmployeeNumber|EnvironmentSatisfaction|Gender|HourlyRate|JobInvolvement|JobLevel|        JobRole|JobSatisfaction|MaritalStatus|MonthlyIncome|MonthlyRate|NumCompaniesWorked|Over18|OverTime|PercentSalaryHike|PerformanceRating|RelationshipSatisfaction|StandardHours|StockOptionLevel|TotalWorkingYears|TrainingTimesLastYear|WorkLifeBalance|YearsAtCompany|YearsInCurrentRole|YearsSinceLastPromotion|YearsWithCurrManager|ntile_df|\n",
            "+---+---------+-----------------+---------+---------------+----------------+---------+----------------+-------------+--------------+-----------------------+------+----------+--------------+--------+---------------+---------------+-------------+-------------+-----------+------------------+------+--------+-----------------+-----------------+------------------------+-------------+----------------+-----------------+---------------------+---------------+--------------+------------------+-----------------------+--------------------+--------+\n",
            "| 37|        1|    Travel_Rarely|      807|Human Resources|               6|        4| Human Resources|            1|           133|                      3|  Male|        63|             3|       1|Human Resources|              1|     Divorced|         2073|      23648|                 4|     Y|     Yes|               22|                4|                       4|           80|               0|                7|                    3|              3|             3|                 2|                      0|                   2|       1|\n",
            "| 31|        0|    Travel_Rarely|     1398|Human Resources|               8|        2|         Medical|            1|          1461|                      4|Female|        96|             4|       1|Human Resources|              2|       Single|         2109|      24609|                 9|     Y|      No|               18|                3|                       4|           80|               0|                8|                    3|              3|             3|                 2|                      0|                   2|       1|\n",
            "| 36|        0|    Travel_Rarely|     1041|Human Resources|              13|        3| Human Resources|            1|           829|                      3|  Male|        36|             3|       1|Human Resources|              2|      Married|         2143|      25527|                 4|     Y|      No|               13|                3|                       2|           80|               1|                8|                    2|              3|             5|                 2|                      0|                   4|       1|\n",
            "| 45|        0|    Travel_Rarely|      788|Human Resources|              24|        4|         Medical|            1|          1049|                      2|  Male|        36|             3|       1|Human Resources|              2|       Single|         2177|       8318|                 1|     Y|      No|               16|                3|                       1|           80|               0|                6|                    3|              3|             6|                 3|                      0|                   4|       1|\n",
            "| 59|        0|    Travel_Rarely|      818|Human Resources|               6|        2|         Medical|            1|           321|                      2|  Male|        52|             3|       1|Human Resources|              3|      Married|         2267|      25657|                 8|     Y|      No|               17|                3|                       4|           80|               0|                7|                    2|              2|             2|                 2|                      2|                   2|       1|\n",
            "| 33|        0|    Travel_Rarely|     1075|Human Resources|               3|        2| Human Resources|            1|           910|                      4|  Male|        57|             3|       1|Human Resources|              2|     Divorced|         2277|      22650|                 3|     Y|     Yes|               11|                3|                       3|           80|               1|                7|                    4|              4|             4|                 3|                      0|                   3|       1|\n",
            "| 36|        0|    Travel_Rarely|     1278|Human Resources|               8|        3|   Life Sciences|            1|           878|                      1|  Male|        77|             2|       1|Human Resources|              1|      Married|         2342|       8635|                 0|     Y|      No|               21|                4|                       3|           80|               0|                6|                    3|              3|             5|                 4|                      0|                   3|       1|\n",
            "| 19|        1|    Travel_Rarely|      489|Human Resources|               2|        2|Technical Degree|            1|           566|                      1|  Male|        52|             2|       1|Human Resources|              4|       Single|         2564|      18437|                 1|     Y|      No|               12|                3|                       3|           80|               0|                1|                    3|              4|             1|                 0|                      0|                   0|       1|\n",
            "| 42|        0|    Travel_Rarely|      544|Human Resources|               2|        1|Technical Degree|            1|           470|                      3|  Male|        52|             3|       1|Human Resources|              3|     Divorced|         2696|      24017|                 0|     Y|     Yes|               11|                3|                       3|           80|               1|                4|                    5|              3|             3|                 2|                      1|                   0|       1|\n",
            "| 26|        1|Travel_Frequently|      426|Human Resources|              17|        4|   Life Sciences|            1|           608|                      2|Female|        58|             3|       1|Human Resources|              3|     Divorced|         2741|      22808|                 0|     Y|     Yes|               11|                3|                       2|           80|               1|                8|                    2|              2|             7|                 7|                      1|                   0|       1|\n",
            "| 34|        1|    Travel_Rarely|     1107|Human Resources|               9|        4|Technical Degree|            1|          1467|                      1|Female|        52|             3|       1|Human Resources|              3|      Married|         2742|       3072|                 1|     Y|      No|               15|                3|                       4|           80|               0|                2|                    0|              3|             2|                 2|                      2|                   2|       2|\n",
            "| 38|        0|    Travel_Rarely|      433|Human Resources|               1|        3| Human Resources|            1|          1152|                      3|  Male|        37|             4|       1|Human Resources|              3|      Married|         2844|       6004|                 1|     Y|      No|               13|                3|                       4|           80|               1|                7|                    2|              4|             7|                 6|                      5|                   0|       2|\n",
            "| 26|        0|    Travel_Rarely|     1355|Human Resources|              25|        1|   Life Sciences|            1|           177|                      3|Female|        61|             3|       1|Human Resources|              3|      Married|         2942|       8916|                 1|     Y|      No|               23|                4|                       4|           80|               1|                8|                    3|              3|             8|                 7|                      5|                   7|       2|\n",
            "| 46|        0|    Travel_Rarely|      991|Human Resources|               1|        2|   Life Sciences|            1|          1314|                      4|Female|        44|             3|       1|Human Resources|              1|       Single|         3423|      22957|                 6|     Y|      No|               12|                3|                       3|           80|               0|               10|                    3|              4|             7|                 6|                      5|                   7|       2|\n",
            "| 33|        0|    Travel_Rarely|      147|Human Resources|               2|        3| Human Resources|            1|          1207|                      2|  Male|        99|             3|       1|Human Resources|              3|      Married|         3600|       8429|                 1|     Y|      No|               13|                3|                       4|           80|               1|                5|                    2|              3|             5|                 4|                      1|                   4|       2|\n",
            "| 34|        0|    Travel_Rarely|      829|Human Resources|               3|        2| Human Resources|            1|           847|                      3|  Male|        88|             3|       1|Human Resources|              4|      Married|         3737|       2243|                 0|     Y|      No|               19|                3|                       3|           80|               1|                4|                    1|              1|             3|                 2|                      0|                   2|       2|\n",
            "| 35|        0|    Travel_Rarely|      528|Human Resources|               8|        4|Technical Degree|            1|          1164|                      3|  Male|       100|             3|       1|Human Resources|              3|       Single|         4323|       7108|                 1|     Y|      No|               17|                3|                       2|           80|               0|                6|                    2|              1|             5|                 4|                      1|                   4|       2|\n",
            "| 34|        0|Travel_Frequently|      648|Human Resources|              11|        3|   Life Sciences|            1|          1289|                      3|  Male|        56|             2|       2|Human Resources|              2|      Married|         4490|      21833|                 4|     Y|      No|               11|                3|                       4|           80|               2|               14|                    5|              4|            10|                 9|                      1|                   8|       2|\n",
            "| 28|        0|    Travel_Rarely|     1169|Human Resources|               8|        2|         Medical|            1|           869|                      2|  Male|        63|             2|       1|Human Resources|              4|     Divorced|         4936|      23965|                 1|     Y|      No|               13|                3|                       4|           80|               1|                6|                    6|              3|             5|                 1|                      0|                   4|       2|\n",
            "| 46|        0|    Travel_Rarely|      945|Human Resources|               5|        2|         Medical|            1|           103|                      2|  Male|        80|             3|       2|Human Resources|              2|     Divorced|         5021|      10425|                 8|     Y|     Yes|               22|                4|                       4|           80|               1|               16|                    2|              3|             4|                 2|                      0|                   2|       2|\n",
            "+---+---------+-----------------+---------+---------------+----------------+---------+----------------+-------------+--------------+-----------------------+------+----------+--------------+--------+---------------+---------------+-------------+-------------+-----------+------------------+------+--------+-----------------+-----------------+------------------------+-------------+----------------+-----------------+---------------------+---------------+--------------+------------------+-----------------------+--------------------+--------+\n",
            "only showing top 20 rows\n",
            "\n"
          ]
        }
      ]
    },
    {
      "cell_type": "markdown",
      "source": [
        "**cume_dist()** window function is used to get the cumulative distribution of values within a window partition.This is the same as the DENSE_RANK function in SQL"
      ],
      "metadata": {
        "id": "JCSVuESbhF7a"
      }
    },
    {
      "cell_type": "code",
      "source": [
        "cume_dist_df = df2.withColumn(\"Analytics_CD\" , F.cume_dist().over(windowsSpec))\n",
        "cume_dist_df.show()"
      ],
      "metadata": {
        "colab": {
          "base_uri": "https://localhost:8080/"
        },
        "id": "4yKa210JgJmg",
        "outputId": "36644e6e-bbb2-46a9-bd97-41a22c53bf9e"
      },
      "execution_count": 19,
      "outputs": [
        {
          "output_type": "stream",
          "name": "stdout",
          "text": [
            "+---+---------+-----------------+---------+---------------+----------------+---------+----------------+-------------+--------------+-----------------------+------+----------+--------------+--------+---------------+---------------+-------------+-------------+-----------+------------------+------+--------+-----------------+-----------------+------------------------+-------------+----------------+-----------------+---------------------+---------------+--------------+------------------+-----------------------+--------------------+-------------------+\n",
            "|Age|Attrition|   BusinessTravel|DailyRate|     Department|DistanceFromHome|Education|  EducationField|EmployeeCount|EmployeeNumber|EnvironmentSatisfaction|Gender|HourlyRate|JobInvolvement|JobLevel|        JobRole|JobSatisfaction|MaritalStatus|MonthlyIncome|MonthlyRate|NumCompaniesWorked|Over18|OverTime|PercentSalaryHike|PerformanceRating|RelationshipSatisfaction|StandardHours|StockOptionLevel|TotalWorkingYears|TrainingTimesLastYear|WorkLifeBalance|YearsAtCompany|YearsInCurrentRole|YearsSinceLastPromotion|YearsWithCurrManager|       Analytics_CD|\n",
            "+---+---------+-----------------+---------+---------------+----------------+---------+----------------+-------------+--------------+-----------------------+------+----------+--------------+--------+---------------+---------------+-------------+-------------+-----------+------------------+------+--------+-----------------+-----------------+------------------------+-------------+----------------+-----------------+---------------------+---------------+--------------+------------------+-----------------------+--------------------+-------------------+\n",
            "| 37|        1|    Travel_Rarely|      807|Human Resources|               6|        4| Human Resources|            1|           133|                      3|  Male|        63|             3|       1|Human Resources|              1|     Divorced|         2073|      23648|                 4|     Y|     Yes|               22|                4|                       4|           80|               0|                7|                    3|              3|             3|                 2|                      0|                   2|0.02631578947368421|\n",
            "| 31|        0|    Travel_Rarely|     1398|Human Resources|               8|        2|         Medical|            1|          1461|                      4|Female|        96|             4|       1|Human Resources|              2|       Single|         2109|      24609|                 9|     Y|      No|               18|                3|                       4|           80|               0|                8|                    3|              3|             3|                 2|                      0|                   2|0.05263157894736842|\n",
            "| 36|        0|    Travel_Rarely|     1041|Human Resources|              13|        3| Human Resources|            1|           829|                      3|  Male|        36|             3|       1|Human Resources|              2|      Married|         2143|      25527|                 4|     Y|      No|               13|                3|                       2|           80|               1|                8|                    2|              3|             5|                 2|                      0|                   4|0.07894736842105263|\n",
            "| 45|        0|    Travel_Rarely|      788|Human Resources|              24|        4|         Medical|            1|          1049|                      2|  Male|        36|             3|       1|Human Resources|              2|       Single|         2177|       8318|                 1|     Y|      No|               16|                3|                       1|           80|               0|                6|                    3|              3|             6|                 3|                      0|                   4|0.10526315789473684|\n",
            "| 59|        0|    Travel_Rarely|      818|Human Resources|               6|        2|         Medical|            1|           321|                      2|  Male|        52|             3|       1|Human Resources|              3|      Married|         2267|      25657|                 8|     Y|      No|               17|                3|                       4|           80|               0|                7|                    2|              2|             2|                 2|                      2|                   2|0.13157894736842105|\n",
            "| 33|        0|    Travel_Rarely|     1075|Human Resources|               3|        2| Human Resources|            1|           910|                      4|  Male|        57|             3|       1|Human Resources|              2|     Divorced|         2277|      22650|                 3|     Y|     Yes|               11|                3|                       3|           80|               1|                7|                    4|              4|             4|                 3|                      0|                   3|0.15789473684210525|\n",
            "| 36|        0|    Travel_Rarely|     1278|Human Resources|               8|        3|   Life Sciences|            1|           878|                      1|  Male|        77|             2|       1|Human Resources|              1|      Married|         2342|       8635|                 0|     Y|      No|               21|                4|                       3|           80|               0|                6|                    3|              3|             5|                 4|                      0|                   3|0.18421052631578946|\n",
            "| 19|        1|    Travel_Rarely|      489|Human Resources|               2|        2|Technical Degree|            1|           566|                      1|  Male|        52|             2|       1|Human Resources|              4|       Single|         2564|      18437|                 1|     Y|      No|               12|                3|                       3|           80|               0|                1|                    3|              4|             1|                 0|                      0|                   0|0.21052631578947367|\n",
            "| 42|        0|    Travel_Rarely|      544|Human Resources|               2|        1|Technical Degree|            1|           470|                      3|  Male|        52|             3|       1|Human Resources|              3|     Divorced|         2696|      24017|                 0|     Y|     Yes|               11|                3|                       3|           80|               1|                4|                    5|              3|             3|                 2|                      1|                   0|0.23684210526315788|\n",
            "| 26|        1|Travel_Frequently|      426|Human Resources|              17|        4|   Life Sciences|            1|           608|                      2|Female|        58|             3|       1|Human Resources|              3|     Divorced|         2741|      22808|                 0|     Y|     Yes|               11|                3|                       2|           80|               1|                8|                    2|              2|             7|                 7|                      1|                   0| 0.2631578947368421|\n",
            "| 34|        1|    Travel_Rarely|     1107|Human Resources|               9|        4|Technical Degree|            1|          1467|                      1|Female|        52|             3|       1|Human Resources|              3|      Married|         2742|       3072|                 1|     Y|      No|               15|                3|                       4|           80|               0|                2|                    0|              3|             2|                 2|                      2|                   2| 0.2894736842105263|\n",
            "| 38|        0|    Travel_Rarely|      433|Human Resources|               1|        3| Human Resources|            1|          1152|                      3|  Male|        37|             4|       1|Human Resources|              3|      Married|         2844|       6004|                 1|     Y|      No|               13|                3|                       4|           80|               1|                7|                    2|              4|             7|                 6|                      5|                   0| 0.3157894736842105|\n",
            "| 26|        0|    Travel_Rarely|     1355|Human Resources|              25|        1|   Life Sciences|            1|           177|                      3|Female|        61|             3|       1|Human Resources|              3|      Married|         2942|       8916|                 1|     Y|      No|               23|                4|                       4|           80|               1|                8|                    3|              3|             8|                 7|                      5|                   7|0.34210526315789475|\n",
            "| 46|        0|    Travel_Rarely|      991|Human Resources|               1|        2|   Life Sciences|            1|          1314|                      4|Female|        44|             3|       1|Human Resources|              1|       Single|         3423|      22957|                 6|     Y|      No|               12|                3|                       3|           80|               0|               10|                    3|              4|             7|                 6|                      5|                   7| 0.3684210526315789|\n",
            "| 33|        0|    Travel_Rarely|      147|Human Resources|               2|        3| Human Resources|            1|          1207|                      2|  Male|        99|             3|       1|Human Resources|              3|      Married|         3600|       8429|                 1|     Y|      No|               13|                3|                       4|           80|               1|                5|                    2|              3|             5|                 4|                      1|                   4|0.39473684210526316|\n",
            "| 34|        0|    Travel_Rarely|      829|Human Resources|               3|        2| Human Resources|            1|           847|                      3|  Male|        88|             3|       1|Human Resources|              4|      Married|         3737|       2243|                 0|     Y|      No|               19|                3|                       3|           80|               1|                4|                    1|              1|             3|                 2|                      0|                   2|0.42105263157894735|\n",
            "| 35|        0|    Travel_Rarely|      528|Human Resources|               8|        4|Technical Degree|            1|          1164|                      3|  Male|       100|             3|       1|Human Resources|              3|       Single|         4323|       7108|                 1|     Y|      No|               17|                3|                       2|           80|               0|                6|                    2|              1|             5|                 4|                      1|                   4| 0.4473684210526316|\n",
            "| 34|        0|Travel_Frequently|      648|Human Resources|              11|        3|   Life Sciences|            1|          1289|                      3|  Male|        56|             2|       2|Human Resources|              2|      Married|         4490|      21833|                 4|     Y|      No|               11|                3|                       4|           80|               2|               14|                    5|              4|            10|                 9|                      1|                   8|0.47368421052631576|\n",
            "| 28|        0|    Travel_Rarely|     1169|Human Resources|               8|        2|         Medical|            1|           869|                      2|  Male|        63|             2|       1|Human Resources|              4|     Divorced|         4936|      23965|                 1|     Y|      No|               13|                3|                       4|           80|               1|                6|                    6|              3|             5|                 1|                      0|                   4|                0.5|\n",
            "| 46|        0|    Travel_Rarely|      945|Human Resources|               5|        2|         Medical|            1|           103|                      2|  Male|        80|             3|       2|Human Resources|              2|     Divorced|         5021|      10425|                 8|     Y|     Yes|               22|                4|                       4|           80|               1|               16|                    2|              3|             4|                 2|                      0|                   2| 0.5263157894736842|\n",
            "+---+---------+-----------------+---------+---------------+----------------+---------+----------------+-------------+--------------+-----------------------+------+----------+--------------+--------+---------------+---------------+-------------+-------------+-----------+------------------+------+--------+-----------------+-----------------+------------------------+-------------+----------------+-----------------+---------------------+---------------+--------------+------------------+-----------------------+--------------------+-------------------+\n",
            "only showing top 20 rows\n",
            "\n"
          ]
        }
      ]
    },
    {
      "cell_type": "markdown",
      "source": [
        "**lag():** This function returns the value of a column from a previous row within a window partition, based on a specified offset. If the offset is greater than the number of rows preceding the current row, the function returns a null value.This is the same as the LAG function in SQL."
      ],
      "metadata": {
        "id": "C-RorbLUiB3r"
      }
    },
    {
      "cell_type": "code",
      "source": [
        "lag_df = df2.withColumn(\"lag_ex\",F.lag(col(\"Department\"), 1).over(windowsSpec))\n",
        "lag_df.show()"
      ],
      "metadata": {
        "colab": {
          "base_uri": "https://localhost:8080/"
        },
        "id": "U1NgUG1DhonP",
        "outputId": "ac488568-5fc7-406f-b76f-4c7dd55ee1c5"
      },
      "execution_count": 20,
      "outputs": [
        {
          "output_type": "stream",
          "name": "stdout",
          "text": [
            "+---+---------+-----------------+---------+---------------+----------------+---------+----------------+-------------+--------------+-----------------------+------+----------+--------------+--------+---------------+---------------+-------------+-------------+-----------+------------------+------+--------+-----------------+-----------------+------------------------+-------------+----------------+-----------------+---------------------+---------------+--------------+------------------+-----------------------+--------------------+---------------+\n",
            "|Age|Attrition|   BusinessTravel|DailyRate|     Department|DistanceFromHome|Education|  EducationField|EmployeeCount|EmployeeNumber|EnvironmentSatisfaction|Gender|HourlyRate|JobInvolvement|JobLevel|        JobRole|JobSatisfaction|MaritalStatus|MonthlyIncome|MonthlyRate|NumCompaniesWorked|Over18|OverTime|PercentSalaryHike|PerformanceRating|RelationshipSatisfaction|StandardHours|StockOptionLevel|TotalWorkingYears|TrainingTimesLastYear|WorkLifeBalance|YearsAtCompany|YearsInCurrentRole|YearsSinceLastPromotion|YearsWithCurrManager|         lag_ex|\n",
            "+---+---------+-----------------+---------+---------------+----------------+---------+----------------+-------------+--------------+-----------------------+------+----------+--------------+--------+---------------+---------------+-------------+-------------+-----------+------------------+------+--------+-----------------+-----------------+------------------------+-------------+----------------+-----------------+---------------------+---------------+--------------+------------------+-----------------------+--------------------+---------------+\n",
            "| 37|        1|    Travel_Rarely|      807|Human Resources|               6|        4| Human Resources|            1|           133|                      3|  Male|        63|             3|       1|Human Resources|              1|     Divorced|         2073|      23648|                 4|     Y|     Yes|               22|                4|                       4|           80|               0|                7|                    3|              3|             3|                 2|                      0|                   2|           null|\n",
            "| 31|        0|    Travel_Rarely|     1398|Human Resources|               8|        2|         Medical|            1|          1461|                      4|Female|        96|             4|       1|Human Resources|              2|       Single|         2109|      24609|                 9|     Y|      No|               18|                3|                       4|           80|               0|                8|                    3|              3|             3|                 2|                      0|                   2|Human Resources|\n",
            "| 36|        0|    Travel_Rarely|     1041|Human Resources|              13|        3| Human Resources|            1|           829|                      3|  Male|        36|             3|       1|Human Resources|              2|      Married|         2143|      25527|                 4|     Y|      No|               13|                3|                       2|           80|               1|                8|                    2|              3|             5|                 2|                      0|                   4|Human Resources|\n",
            "| 45|        0|    Travel_Rarely|      788|Human Resources|              24|        4|         Medical|            1|          1049|                      2|  Male|        36|             3|       1|Human Resources|              2|       Single|         2177|       8318|                 1|     Y|      No|               16|                3|                       1|           80|               0|                6|                    3|              3|             6|                 3|                      0|                   4|Human Resources|\n",
            "| 59|        0|    Travel_Rarely|      818|Human Resources|               6|        2|         Medical|            1|           321|                      2|  Male|        52|             3|       1|Human Resources|              3|      Married|         2267|      25657|                 8|     Y|      No|               17|                3|                       4|           80|               0|                7|                    2|              2|             2|                 2|                      2|                   2|Human Resources|\n",
            "| 33|        0|    Travel_Rarely|     1075|Human Resources|               3|        2| Human Resources|            1|           910|                      4|  Male|        57|             3|       1|Human Resources|              2|     Divorced|         2277|      22650|                 3|     Y|     Yes|               11|                3|                       3|           80|               1|                7|                    4|              4|             4|                 3|                      0|                   3|Human Resources|\n",
            "| 36|        0|    Travel_Rarely|     1278|Human Resources|               8|        3|   Life Sciences|            1|           878|                      1|  Male|        77|             2|       1|Human Resources|              1|      Married|         2342|       8635|                 0|     Y|      No|               21|                4|                       3|           80|               0|                6|                    3|              3|             5|                 4|                      0|                   3|Human Resources|\n",
            "| 19|        1|    Travel_Rarely|      489|Human Resources|               2|        2|Technical Degree|            1|           566|                      1|  Male|        52|             2|       1|Human Resources|              4|       Single|         2564|      18437|                 1|     Y|      No|               12|                3|                       3|           80|               0|                1|                    3|              4|             1|                 0|                      0|                   0|Human Resources|\n",
            "| 42|        0|    Travel_Rarely|      544|Human Resources|               2|        1|Technical Degree|            1|           470|                      3|  Male|        52|             3|       1|Human Resources|              3|     Divorced|         2696|      24017|                 0|     Y|     Yes|               11|                3|                       3|           80|               1|                4|                    5|              3|             3|                 2|                      1|                   0|Human Resources|\n",
            "| 26|        1|Travel_Frequently|      426|Human Resources|              17|        4|   Life Sciences|            1|           608|                      2|Female|        58|             3|       1|Human Resources|              3|     Divorced|         2741|      22808|                 0|     Y|     Yes|               11|                3|                       2|           80|               1|                8|                    2|              2|             7|                 7|                      1|                   0|Human Resources|\n",
            "| 34|        1|    Travel_Rarely|     1107|Human Resources|               9|        4|Technical Degree|            1|          1467|                      1|Female|        52|             3|       1|Human Resources|              3|      Married|         2742|       3072|                 1|     Y|      No|               15|                3|                       4|           80|               0|                2|                    0|              3|             2|                 2|                      2|                   2|Human Resources|\n",
            "| 38|        0|    Travel_Rarely|      433|Human Resources|               1|        3| Human Resources|            1|          1152|                      3|  Male|        37|             4|       1|Human Resources|              3|      Married|         2844|       6004|                 1|     Y|      No|               13|                3|                       4|           80|               1|                7|                    2|              4|             7|                 6|                      5|                   0|Human Resources|\n",
            "| 26|        0|    Travel_Rarely|     1355|Human Resources|              25|        1|   Life Sciences|            1|           177|                      3|Female|        61|             3|       1|Human Resources|              3|      Married|         2942|       8916|                 1|     Y|      No|               23|                4|                       4|           80|               1|                8|                    3|              3|             8|                 7|                      5|                   7|Human Resources|\n",
            "| 46|        0|    Travel_Rarely|      991|Human Resources|               1|        2|   Life Sciences|            1|          1314|                      4|Female|        44|             3|       1|Human Resources|              1|       Single|         3423|      22957|                 6|     Y|      No|               12|                3|                       3|           80|               0|               10|                    3|              4|             7|                 6|                      5|                   7|Human Resources|\n",
            "| 33|        0|    Travel_Rarely|      147|Human Resources|               2|        3| Human Resources|            1|          1207|                      2|  Male|        99|             3|       1|Human Resources|              3|      Married|         3600|       8429|                 1|     Y|      No|               13|                3|                       4|           80|               1|                5|                    2|              3|             5|                 4|                      1|                   4|Human Resources|\n",
            "| 34|        0|    Travel_Rarely|      829|Human Resources|               3|        2| Human Resources|            1|           847|                      3|  Male|        88|             3|       1|Human Resources|              4|      Married|         3737|       2243|                 0|     Y|      No|               19|                3|                       3|           80|               1|                4|                    1|              1|             3|                 2|                      0|                   2|Human Resources|\n",
            "| 35|        0|    Travel_Rarely|      528|Human Resources|               8|        4|Technical Degree|            1|          1164|                      3|  Male|       100|             3|       1|Human Resources|              3|       Single|         4323|       7108|                 1|     Y|      No|               17|                3|                       2|           80|               0|                6|                    2|              1|             5|                 4|                      1|                   4|Human Resources|\n",
            "| 34|        0|Travel_Frequently|      648|Human Resources|              11|        3|   Life Sciences|            1|          1289|                      3|  Male|        56|             2|       2|Human Resources|              2|      Married|         4490|      21833|                 4|     Y|      No|               11|                3|                       4|           80|               2|               14|                    5|              4|            10|                 9|                      1|                   8|Human Resources|\n",
            "| 28|        0|    Travel_Rarely|     1169|Human Resources|               8|        2|         Medical|            1|           869|                      2|  Male|        63|             2|       1|Human Resources|              4|     Divorced|         4936|      23965|                 1|     Y|      No|               13|                3|                       4|           80|               1|                6|                    6|              3|             5|                 1|                      0|                   4|Human Resources|\n",
            "| 46|        0|    Travel_Rarely|      945|Human Resources|               5|        2|         Medical|            1|           103|                      2|  Male|        80|             3|       2|Human Resources|              2|     Divorced|         5021|      10425|                 8|     Y|     Yes|               22|                4|                       4|           80|               1|               16|                    2|              3|             4|                 2|                      0|                   2|Human Resources|\n",
            "+---+---------+-----------------+---------+---------------+----------------+---------+----------------+-------------+--------------+-----------------------+------+----------+--------------+--------+---------------+---------------+-------------+-------------+-----------+------------------+------+--------+-----------------+-----------------+------------------------+-------------+----------------+-----------------+---------------------+---------------+--------------+------------------+-----------------------+--------------------+---------------+\n",
            "only showing top 20 rows\n",
            "\n"
          ]
        }
      ]
    },
    {
      "cell_type": "markdown",
      "source": [
        "**lead():** This function returns the value of a column from a following row within a window partition, based on a specified offset. If the offset is greater than the number of rows following the current row, the function returns a null value.This is the same as the LEAD function in SQL.\n",
        "\n"
      ],
      "metadata": {
        "id": "2BmyXOsrjj5o"
      }
    },
    {
      "cell_type": "code",
      "source": [
        "df2.withColumn(\"lead_ex\",F.lead(col(\"Department\"), 1).over(windowsSpec)).show()\n"
      ],
      "metadata": {
        "colab": {
          "base_uri": "https://localhost:8080/"
        },
        "id": "igLfelI5iWwd",
        "outputId": "156b039d-dd98-4438-b740-3a17bd21246d"
      },
      "execution_count": 21,
      "outputs": [
        {
          "output_type": "stream",
          "name": "stdout",
          "text": [
            "+---+---------+-----------------+---------+---------------+----------------+---------+----------------+-------------+--------------+-----------------------+------+----------+--------------+--------+---------------+---------------+-------------+-------------+-----------+------------------+------+--------+-----------------+-----------------+------------------------+-------------+----------------+-----------------+---------------------+---------------+--------------+------------------+-----------------------+--------------------+---------------+\n",
            "|Age|Attrition|   BusinessTravel|DailyRate|     Department|DistanceFromHome|Education|  EducationField|EmployeeCount|EmployeeNumber|EnvironmentSatisfaction|Gender|HourlyRate|JobInvolvement|JobLevel|        JobRole|JobSatisfaction|MaritalStatus|MonthlyIncome|MonthlyRate|NumCompaniesWorked|Over18|OverTime|PercentSalaryHike|PerformanceRating|RelationshipSatisfaction|StandardHours|StockOptionLevel|TotalWorkingYears|TrainingTimesLastYear|WorkLifeBalance|YearsAtCompany|YearsInCurrentRole|YearsSinceLastPromotion|YearsWithCurrManager|        lead_ex|\n",
            "+---+---------+-----------------+---------+---------------+----------------+---------+----------------+-------------+--------------+-----------------------+------+----------+--------------+--------+---------------+---------------+-------------+-------------+-----------+------------------+------+--------+-----------------+-----------------+------------------------+-------------+----------------+-----------------+---------------------+---------------+--------------+------------------+-----------------------+--------------------+---------------+\n",
            "| 37|        1|    Travel_Rarely|      807|Human Resources|               6|        4| Human Resources|            1|           133|                      3|  Male|        63|             3|       1|Human Resources|              1|     Divorced|         2073|      23648|                 4|     Y|     Yes|               22|                4|                       4|           80|               0|                7|                    3|              3|             3|                 2|                      0|                   2|Human Resources|\n",
            "| 31|        0|    Travel_Rarely|     1398|Human Resources|               8|        2|         Medical|            1|          1461|                      4|Female|        96|             4|       1|Human Resources|              2|       Single|         2109|      24609|                 9|     Y|      No|               18|                3|                       4|           80|               0|                8|                    3|              3|             3|                 2|                      0|                   2|Human Resources|\n",
            "| 36|        0|    Travel_Rarely|     1041|Human Resources|              13|        3| Human Resources|            1|           829|                      3|  Male|        36|             3|       1|Human Resources|              2|      Married|         2143|      25527|                 4|     Y|      No|               13|                3|                       2|           80|               1|                8|                    2|              3|             5|                 2|                      0|                   4|Human Resources|\n",
            "| 45|        0|    Travel_Rarely|      788|Human Resources|              24|        4|         Medical|            1|          1049|                      2|  Male|        36|             3|       1|Human Resources|              2|       Single|         2177|       8318|                 1|     Y|      No|               16|                3|                       1|           80|               0|                6|                    3|              3|             6|                 3|                      0|                   4|Human Resources|\n",
            "| 59|        0|    Travel_Rarely|      818|Human Resources|               6|        2|         Medical|            1|           321|                      2|  Male|        52|             3|       1|Human Resources|              3|      Married|         2267|      25657|                 8|     Y|      No|               17|                3|                       4|           80|               0|                7|                    2|              2|             2|                 2|                      2|                   2|Human Resources|\n",
            "| 33|        0|    Travel_Rarely|     1075|Human Resources|               3|        2| Human Resources|            1|           910|                      4|  Male|        57|             3|       1|Human Resources|              2|     Divorced|         2277|      22650|                 3|     Y|     Yes|               11|                3|                       3|           80|               1|                7|                    4|              4|             4|                 3|                      0|                   3|Human Resources|\n",
            "| 36|        0|    Travel_Rarely|     1278|Human Resources|               8|        3|   Life Sciences|            1|           878|                      1|  Male|        77|             2|       1|Human Resources|              1|      Married|         2342|       8635|                 0|     Y|      No|               21|                4|                       3|           80|               0|                6|                    3|              3|             5|                 4|                      0|                   3|Human Resources|\n",
            "| 19|        1|    Travel_Rarely|      489|Human Resources|               2|        2|Technical Degree|            1|           566|                      1|  Male|        52|             2|       1|Human Resources|              4|       Single|         2564|      18437|                 1|     Y|      No|               12|                3|                       3|           80|               0|                1|                    3|              4|             1|                 0|                      0|                   0|Human Resources|\n",
            "| 42|        0|    Travel_Rarely|      544|Human Resources|               2|        1|Technical Degree|            1|           470|                      3|  Male|        52|             3|       1|Human Resources|              3|     Divorced|         2696|      24017|                 0|     Y|     Yes|               11|                3|                       3|           80|               1|                4|                    5|              3|             3|                 2|                      1|                   0|Human Resources|\n",
            "| 26|        1|Travel_Frequently|      426|Human Resources|              17|        4|   Life Sciences|            1|           608|                      2|Female|        58|             3|       1|Human Resources|              3|     Divorced|         2741|      22808|                 0|     Y|     Yes|               11|                3|                       2|           80|               1|                8|                    2|              2|             7|                 7|                      1|                   0|Human Resources|\n",
            "| 34|        1|    Travel_Rarely|     1107|Human Resources|               9|        4|Technical Degree|            1|          1467|                      1|Female|        52|             3|       1|Human Resources|              3|      Married|         2742|       3072|                 1|     Y|      No|               15|                3|                       4|           80|               0|                2|                    0|              3|             2|                 2|                      2|                   2|Human Resources|\n",
            "| 38|        0|    Travel_Rarely|      433|Human Resources|               1|        3| Human Resources|            1|          1152|                      3|  Male|        37|             4|       1|Human Resources|              3|      Married|         2844|       6004|                 1|     Y|      No|               13|                3|                       4|           80|               1|                7|                    2|              4|             7|                 6|                      5|                   0|Human Resources|\n",
            "| 26|        0|    Travel_Rarely|     1355|Human Resources|              25|        1|   Life Sciences|            1|           177|                      3|Female|        61|             3|       1|Human Resources|              3|      Married|         2942|       8916|                 1|     Y|      No|               23|                4|                       4|           80|               1|                8|                    3|              3|             8|                 7|                      5|                   7|Human Resources|\n",
            "| 46|        0|    Travel_Rarely|      991|Human Resources|               1|        2|   Life Sciences|            1|          1314|                      4|Female|        44|             3|       1|Human Resources|              1|       Single|         3423|      22957|                 6|     Y|      No|               12|                3|                       3|           80|               0|               10|                    3|              4|             7|                 6|                      5|                   7|Human Resources|\n",
            "| 33|        0|    Travel_Rarely|      147|Human Resources|               2|        3| Human Resources|            1|          1207|                      2|  Male|        99|             3|       1|Human Resources|              3|      Married|         3600|       8429|                 1|     Y|      No|               13|                3|                       4|           80|               1|                5|                    2|              3|             5|                 4|                      1|                   4|Human Resources|\n",
            "| 34|        0|    Travel_Rarely|      829|Human Resources|               3|        2| Human Resources|            1|           847|                      3|  Male|        88|             3|       1|Human Resources|              4|      Married|         3737|       2243|                 0|     Y|      No|               19|                3|                       3|           80|               1|                4|                    1|              1|             3|                 2|                      0|                   2|Human Resources|\n",
            "| 35|        0|    Travel_Rarely|      528|Human Resources|               8|        4|Technical Degree|            1|          1164|                      3|  Male|       100|             3|       1|Human Resources|              3|       Single|         4323|       7108|                 1|     Y|      No|               17|                3|                       2|           80|               0|                6|                    2|              1|             5|                 4|                      1|                   4|Human Resources|\n",
            "| 34|        0|Travel_Frequently|      648|Human Resources|              11|        3|   Life Sciences|            1|          1289|                      3|  Male|        56|             2|       2|Human Resources|              2|      Married|         4490|      21833|                 4|     Y|      No|               11|                3|                       4|           80|               2|               14|                    5|              4|            10|                 9|                      1|                   8|Human Resources|\n",
            "| 28|        0|    Travel_Rarely|     1169|Human Resources|               8|        2|         Medical|            1|           869|                      2|  Male|        63|             2|       1|Human Resources|              4|     Divorced|         4936|      23965|                 1|     Y|      No|               13|                3|                       4|           80|               1|                6|                    6|              3|             5|                 1|                      0|                   4|Human Resources|\n",
            "| 46|        0|    Travel_Rarely|      945|Human Resources|               5|        2|         Medical|            1|           103|                      2|  Male|        80|             3|       2|Human Resources|              2|     Divorced|         5021|      10425|                 8|     Y|     Yes|               22|                4|                       4|           80|               1|               16|                    2|              3|             4|                 2|                      0|                   2|Human Resources|\n",
            "+---+---------+-----------------+---------+---------------+----------------+---------+----------------+-------------+--------------+-----------------------+------+----------+--------------+--------+---------------+---------------+-------------+-------------+-----------+------------------+------+--------+-----------------+-----------------+------------------------+-------------+----------------+-----------------+---------------------+---------------+--------------+------------------+-----------------------+--------------------+---------------+\n",
            "only showing top 20 rows\n",
            "\n"
          ]
        }
      ]
    },
    {
      "cell_type": "code",
      "source": [
        "df2.where(\"Age > 46 and MonthlyIncome > 6000\").show()"
      ],
      "metadata": {
        "colab": {
          "base_uri": "https://localhost:8080/"
        },
        "id": "H49BTCkRoDqy",
        "outputId": "c2d032fb-e56f-4634-9c97-63cdc77779ba"
      },
      "execution_count": 52,
      "outputs": [
        {
          "output_type": "stream",
          "name": "stdout",
          "text": [
            "+---+---------+-----------------+---------+--------------------+----------------+---------+----------------+-------------+--------------+-----------------------+------+----------+--------------+--------+--------------------+---------------+-------------+-------------+-----------+------------------+------+--------+-----------------+-----------------+------------------------+-------------+----------------+-----------------+---------------------+---------------+--------------+------------------+-----------------------+--------------------+\n",
            "|Age|Attrition|   BusinessTravel|DailyRate|          Department|DistanceFromHome|Education|  EducationField|EmployeeCount|EmployeeNumber|EnvironmentSatisfaction|Gender|HourlyRate|JobInvolvement|JobLevel|             JobRole|JobSatisfaction|MaritalStatus|MonthlyIncome|MonthlyRate|NumCompaniesWorked|Over18|OverTime|PercentSalaryHike|PerformanceRating|RelationshipSatisfaction|StandardHours|StockOptionLevel|TotalWorkingYears|TrainingTimesLastYear|WorkLifeBalance|YearsAtCompany|YearsInCurrentRole|YearsSinceLastPromotion|YearsWithCurrManager|\n",
            "+---+---------+-----------------+---------+--------------------+----------------+---------+----------------+-------------+--------------+-----------------------+------+----------+--------------+--------+--------------------+---------------+-------------+-------------+-----------+------------------+------+--------+-----------------+-----------------+------------------------+-------------+----------------+-----------------+---------------------+---------------+--------------+------------------+-----------------------+--------------------+\n",
            "| 53|        0|    Travel_Rarely|     1219|               Sales|               2|        4|   Life Sciences|            1|            23|                      1|Female|        78|             2|       4|             Manager|              4|      Married|        15427|      22021|                 2|     Y|      No|               16|                3|                       3|           80|               0|               31|                    3|              3|            25|                 8|                      3|                   7|\n",
            "| 53|        0|    Travel_Rarely|     1282|Research & Develo...|               5|        3|           Other|            1|            32|                      3|Female|        58|             3|       5|             Manager|              3|     Divorced|        19094|      10735|                 4|     Y|      No|               11|                3|                       4|           80|               1|               26|                    3|              2|            14|                13|                      4|                   8|\n",
            "| 50|        0|    Travel_Rarely|      989|Research & Develo...|               7|        2|         Medical|            1|            80|                      2|Female|        43|             2|       5|   Research Director|              3|     Divorced|        18740|      16701|                 5|     Y|     Yes|               12|                3|                       4|           80|               1|               29|                    2|              2|            27|                 3|                     13|                   8|\n",
            "| 59|        0|    Travel_Rarely|     1435|               Sales|              25|        3|   Life Sciences|            1|            81|                      1|Female|        99|             3|       3|     Sales Executive|              1|       Single|         7637|       2354|                 7|     Y|      No|               11|                3|                       4|           80|               0|               28|                    3|              2|            21|                16|                      7|                   9|\n",
            "| 55|        0|    Travel_Rarely|      836|Research & Develo...|               8|        3|         Medical|            1|            84|                      4|Female|        33|             3|       4|             Manager|              3|     Divorced|        14756|      19730|                 2|     Y|     Yes|               14|                3|                       3|           80|               3|               21|                    2|              3|             5|                 0|                      0|                   2|\n",
            "| 55|        0|    Travel_Rarely|      111|               Sales|               1|        2|   Life Sciences|            1|           106|                      1|  Male|        70|             3|       3|     Sales Executive|              4|      Married|        10239|      18092|                 3|     Y|      No|               14|                3|                       4|           80|               1|               24|                    4|              3|             1|                 0|                      1|                   0|\n",
            "| 56|        0|    Travel_Rarely|     1400|Research & Develo...|               7|        3|   Life Sciences|            1|           112|                      4|  Male|        49|             1|       3|Manufacturing Dir...|              4|       Single|         7260|      21698|                 4|     Y|      No|               11|                3|                       1|           80|               0|               37|                    3|              2|             6|                 4|                      0|                   2|\n",
            "| 54|        0|    Travel_Rarely|     1217|Research & Develo...|               2|        4|Technical Degree|            1|           126|                      1|Female|        60|             3|       3|   Research Director|              3|      Married|        13549|      24001|                 9|     Y|      No|               12|                3|                       1|           80|               1|               16|                    5|              1|             4|                 3|                      0|                   3|\n",
            "| 58|        0|    Travel_Rarely|      682|               Sales|              10|        4|         Medical|            1|           131|                      4|  Male|        37|             3|       4|     Sales Executive|              3|       Single|        13872|      24409|                 0|     Y|      No|               13|                3|                       3|           80|               0|               38|                    1|              2|            37|                10|                      1|                   8|\n",
            "| 59|        0|       Non-Travel|     1420|     Human Resources|               2|        4| Human Resources|            1|           140|                      3|Female|        32|             2|       5|             Manager|              4|      Married|        18844|      21922|                 9|     Y|      No|               21|                4|                       4|           80|               1|               30|                    3|              3|             3|                 2|                      2|                   2|\n",
            "| 50|        0|Travel_Frequently|     1115|Research & Develo...|               1|        3|   Life Sciences|            1|           141|                      1|Female|        73|             3|       5|   Research Director|              2|      Married|        18172|       9755|                 3|     Y|     Yes|               19|                3|                       1|           80|               0|               28|                    1|              2|             8|                 3|                      0|                   7|\n",
            "| 51|        0|Travel_Frequently|     1456|Research & Develo...|               1|        4|         Medical|            1|           145|                      1|Female|        30|             2|       3|Healthcare Repres...|              1|       Single|         7484|      25796|                 3|     Y|      No|               20|                4|                       3|           80|               0|               23|                    1|              2|            13|                12|                     12|                   8|\n",
            "| 54|        0|       Non-Travel|      142|     Human Resources|              26|        3| Human Resources|            1|           148|                      4|Female|        30|             4|       4|             Manager|              4|       Single|        17328|      13871|                 2|     Y|     Yes|               12|                3|                       3|           80|               0|               23|                    3|              3|             5|                 3|                      4|                   4|\n",
            "| 51|        0|    Travel_Rarely|      684|Research & Develo...|               6|        3|   Life Sciences|            1|           162|                      1|  Male|        51|             3|       5|   Research Director|              3|       Single|        19537|       6462|                 7|     Y|      No|               13|                3|                       3|           80|               0|               23|                    5|              3|            20|                18|                     15|                  15|\n",
            "| 58|        1|    Travel_Rarely|      147|Research & Develo...|              23|        4|         Medical|            1|           165|                      4|Female|        94|             3|       3|Healthcare Repres...|              4|      Married|        10312|       3465|                 1|     Y|      No|               12|                3|                       4|           80|               1|               40|                    3|              2|            40|                10|                     15|                   6|\n",
            "| 49|        0|    Travel_Rarely|      470|Research & Develo...|              20|        4|         Medical|            1|           170|                      3|Female|        96|             3|       2|Manufacturing Dir...|              1|      Married|         6567|       5549|                 1|     Y|      No|               14|                3|                       3|           80|               0|               16|                    2|              2|            15|                11|                      5|                  11|\n",
            "| 50|        0|Travel_Frequently|      809|               Sales|              12|        3|       Marketing|            1|           174|                      3|Female|        77|             3|       3|     Sales Executive|              4|       Single|         9208|       6645|                 4|     Y|      No|               11|                3|                       4|           80|               0|               16|                    3|              3|             2|                 2|                      2|                   1|\n",
            "| 51|        1|Travel_Frequently|     1150|Research & Develo...|               8|        4|   Life Sciences|            1|           179|                      1|  Male|        53|             1|       3|Manufacturing Dir...|              4|       Single|        10650|      25150|                 2|     Y|      No|               15|                3|                       4|           80|               0|               18|                    2|              3|             4|                 2|                      0|                   3|\n",
            "| 51|        0|    Travel_Rarely|     1169|Research & Develo...|               7|        4|         Medical|            1|           211|                      2|  Male|        34|             2|       2|Manufacturing Dir...|              3|      Married|         6132|      13983|                 2|     Y|      No|               17|                3|                       3|           80|               0|               10|                    2|              3|             1|                 0|                      0|                   0|\n",
            "| 57|        0|    Travel_Rarely|      334|Research & Develo...|              24|        2|   Life Sciences|            1|           223|                      3|  Male|        83|             4|       3|Healthcare Repres...|              4|     Divorced|         9439|      23402|                 3|     Y|     Yes|               16|                3|                       2|           80|               1|               12|                    2|              1|             5|                 3|                      1|                   4|\n",
            "+---+---------+-----------------+---------+--------------------+----------------+---------+----------------+-------------+--------------+-----------------------+------+----------+--------------+--------+--------------------+---------------+-------------+-------------+-----------+------------------+------+--------+-----------------+-----------------+------------------------+-------------+----------------+-----------------+---------------------+---------------+--------------+------------------+-----------------------+--------------------+\n",
            "only showing top 20 rows\n",
            "\n"
          ]
        }
      ]
    },
    {
      "cell_type": "code",
      "source": [
        "df2.where((col(\"Age\") > \"46\") & (col(\"MonthlyIncome\") > \"5000\")).show()"
      ],
      "metadata": {
        "colab": {
          "base_uri": "https://localhost:8080/"
        },
        "id": "ow8n4lTxoZJq",
        "outputId": "1cfc8cbf-157d-4bb6-c6c9-46247801e779"
      },
      "execution_count": 63,
      "outputs": [
        {
          "output_type": "stream",
          "name": "stdout",
          "text": [
            "+---+---------+-----------------+---------+--------------------+----------------+---------+----------------+-------------+--------------+-----------------------+------+----------+--------------+--------+--------------------+---------------+-------------+-------------+-----------+------------------+------+--------+-----------------+-----------------+------------------------+-------------+----------------+-----------------+---------------------+---------------+--------------+------------------+-----------------------+--------------------+\n",
            "|Age|Attrition|   BusinessTravel|DailyRate|          Department|DistanceFromHome|Education|  EducationField|EmployeeCount|EmployeeNumber|EnvironmentSatisfaction|Gender|HourlyRate|JobInvolvement|JobLevel|             JobRole|JobSatisfaction|MaritalStatus|MonthlyIncome|MonthlyRate|NumCompaniesWorked|Over18|OverTime|PercentSalaryHike|PerformanceRating|RelationshipSatisfaction|StandardHours|StockOptionLevel|TotalWorkingYears|TrainingTimesLastYear|WorkLifeBalance|YearsAtCompany|YearsInCurrentRole|YearsSinceLastPromotion|YearsWithCurrManager|\n",
            "+---+---------+-----------------+---------+--------------------+----------------+---------+----------------+-------------+--------------+-----------------------+------+----------+--------------+--------+--------------------+---------------+-------------+-------------+-----------+------------------+------+--------+-----------------+-----------------+------------------------+-------------+----------------+-----------------+---------------------+---------------+--------------+------------------+-----------------------+--------------------+\n",
            "| 49|        0|Travel_Frequently|      279|Research & Develo...|               8|        1|   Life Sciences|            1|             2|                      3|  Male|        61|             2|       2|  Research Scientist|              2|      Married|         5130|      24907|                 1|     Y|      No|               23|                4|                       4|           80|               1|               10|                    3|              3|            10|                 7|                      1|                   7|\n",
            "| 53|        0|    Travel_Rarely|     1219|               Sales|               2|        4|   Life Sciences|            1|            23|                      1|Female|        78|             2|       4|             Manager|              4|      Married|        15427|      22021|                 2|     Y|      No|               16|                3|                       3|           80|               0|               31|                    3|              3|            25|                 8|                      3|                   7|\n",
            "| 53|        0|    Travel_Rarely|     1282|Research & Develo...|               5|        3|           Other|            1|            32|                      3|Female|        58|             3|       5|             Manager|              3|     Divorced|        19094|      10735|                 4|     Y|      No|               11|                3|                       4|           80|               1|               26|                    3|              2|            14|                13|                      4|                   8|\n",
            "| 48|        1|    Travel_Rarely|      626|Research & Develo...|               1|        2|   Life Sciences|            1|            64|                      1|  Male|        98|             2|       3|Laboratory Techni...|              3|       Single|         5381|      19294|                 9|     Y|     Yes|               13|                3|                       4|           80|               0|               23|                    2|              3|             1|                 0|                      0|                   0|\n",
            "| 50|        0|    Travel_Rarely|      989|Research & Develo...|               7|        2|         Medical|            1|            80|                      2|Female|        43|             2|       5|   Research Director|              3|     Divorced|        18740|      16701|                 5|     Y|     Yes|               12|                3|                       4|           80|               1|               29|                    2|              2|            27|                 3|                     13|                   8|\n",
            "| 59|        0|    Travel_Rarely|     1435|               Sales|              25|        3|   Life Sciences|            1|            81|                      1|Female|        99|             3|       3|     Sales Executive|              1|       Single|         7637|       2354|                 7|     Y|      No|               11|                3|                       4|           80|               0|               28|                    3|              2|            21|                16|                      7|                   9|\n",
            "| 55|        0|    Travel_Rarely|      836|Research & Develo...|               8|        3|         Medical|            1|            84|                      4|Female|        33|             3|       4|             Manager|              3|     Divorced|        14756|      19730|                 2|     Y|     Yes|               14|                3|                       3|           80|               3|               21|                    2|              3|             5|                 0|                      0|                   2|\n",
            "| 59|        0|Travel_Frequently|     1225|               Sales|               1|        1|   Life Sciences|            1|            91|                      1|Female|        57|             2|       2|     Sales Executive|              3|       Single|         5473|      24668|                 7|     Y|      No|               11|                3|                       4|           80|               0|               20|                    2|              2|             4|                 3|                      1|                   3|\n",
            "| 55|        0|    Travel_Rarely|      111|               Sales|               1|        2|   Life Sciences|            1|           106|                      1|  Male|        70|             3|       3|     Sales Executive|              4|      Married|        10239|      18092|                 3|     Y|      No|               14|                3|                       4|           80|               1|               24|                    4|              3|             1|                 0|                      1|                   0|\n",
            "| 56|        0|    Travel_Rarely|     1400|Research & Develo...|               7|        3|   Life Sciences|            1|           112|                      4|  Male|        49|             1|       3|Manufacturing Dir...|              4|       Single|         7260|      21698|                 4|     Y|      No|               11|                3|                       1|           80|               0|               37|                    3|              2|             6|                 4|                      0|                   2|\n",
            "| 51|        0|    Travel_Rarely|      632|               Sales|              21|        4|       Marketing|            1|           120|                      3|  Male|        71|             3|       2|     Sales Executive|              4|       Single|         5441|       8423|                 0|     Y|     Yes|               22|                4|                       4|           80|               0|               11|                    2|              1|            10|                 7|                      1|                   0|\n",
            "| 54|        0|    Travel_Rarely|     1217|Research & Develo...|               2|        4|Technical Degree|            1|           126|                      1|Female|        60|             3|       3|   Research Director|              3|      Married|        13549|      24001|                 9|     Y|      No|               12|                3|                       1|           80|               1|               16|                    5|              1|             4|                 3|                      0|                   3|\n",
            "| 58|        0|    Travel_Rarely|      682|               Sales|              10|        4|         Medical|            1|           131|                      4|  Male|        37|             3|       4|     Sales Executive|              3|       Single|        13872|      24409|                 0|     Y|      No|               13|                3|                       3|           80|               0|               38|                    1|              2|            37|                10|                      1|                   8|\n",
            "| 59|        0|       Non-Travel|     1420|     Human Resources|               2|        4| Human Resources|            1|           140|                      3|Female|        32|             2|       5|             Manager|              4|      Married|        18844|      21922|                 9|     Y|      No|               21|                4|                       4|           80|               1|               30|                    3|              3|             3|                 2|                      2|                   2|\n",
            "| 50|        0|Travel_Frequently|     1115|Research & Develo...|               1|        3|   Life Sciences|            1|           141|                      1|Female|        73|             3|       5|   Research Director|              2|      Married|        18172|       9755|                 3|     Y|     Yes|               19|                3|                       1|           80|               0|               28|                    1|              2|             8|                 3|                      0|                   7|\n",
            "| 51|        0|Travel_Frequently|     1456|Research & Develo...|               1|        4|         Medical|            1|           145|                      1|Female|        30|             2|       3|Healthcare Repres...|              1|       Single|         7484|      25796|                 3|     Y|      No|               20|                4|                       3|           80|               0|               23|                    1|              2|            13|                12|                     12|                   8|\n",
            "| 54|        0|       Non-Travel|      142|     Human Resources|              26|        3| Human Resources|            1|           148|                      4|Female|        30|             4|       4|             Manager|              4|       Single|        17328|      13871|                 2|     Y|     Yes|               12|                3|                       3|           80|               0|               23|                    3|              3|             5|                 3|                      4|                   4|\n",
            "| 51|        0|    Travel_Rarely|      684|Research & Develo...|               6|        3|   Life Sciences|            1|           162|                      1|  Male|        51|             3|       5|   Research Director|              3|       Single|        19537|       6462|                 7|     Y|      No|               13|                3|                       3|           80|               0|               23|                    5|              3|            20|                18|                     15|                  15|\n",
            "| 58|        1|    Travel_Rarely|      147|Research & Develo...|              23|        4|         Medical|            1|           165|                      4|Female|        94|             3|       3|Healthcare Repres...|              4|      Married|        10312|       3465|                 1|     Y|      No|               12|                3|                       4|           80|               1|               40|                    3|              2|            40|                10|                     15|                   6|\n",
            "| 49|        0|    Travel_Rarely|      470|Research & Develo...|              20|        4|         Medical|            1|           170|                      3|Female|        96|             3|       2|Manufacturing Dir...|              1|      Married|         6567|       5549|                 1|     Y|      No|               14|                3|                       3|           80|               0|               16|                    2|              2|            15|                11|                      5|                  11|\n",
            "+---+---------+-----------------+---------+--------------------+----------------+---------+----------------+-------------+--------------+-----------------------+------+----------+--------------+--------+--------------------+---------------+-------------+-------------+-----------+------------------+------+--------+-----------------+-----------------+------------------------+-------------+----------------+-----------------+---------------------+---------------+--------------+------------------+-----------------------+--------------------+\n",
            "only showing top 20 rows\n",
            "\n"
          ]
        }
      ]
    },
    {
      "cell_type": "markdown",
      "source": [
        "**regexp_replace() vs regexp_extract**"
      ],
      "metadata": {
        "id": "o_936zqYk2nQ"
      }
    },
    {
      "cell_type": "code",
      "source": [
        "from pyspark.sql.functions import regexp_extract\n",
        "df = spark.createDataFrame([('100-200',)], ['str'])\n",
        "df.select(regexp_extract('str', r'(\\d+)-(\\d+)',1).alias('d')).collect()"
      ],
      "metadata": {
        "id": "RN4V0RHFjwuy",
        "colab": {
          "base_uri": "https://localhost:8080/"
        },
        "outputId": "b78252dc-e3be-46b1-d3ee-77a5a57f2af0"
      },
      "execution_count": 22,
      "outputs": [
        {
          "output_type": "execute_result",
          "data": {
            "text/plain": [
              "[Row(d='100')]"
            ]
          },
          "metadata": {},
          "execution_count": 22
        }
      ]
    },
    {
      "cell_type": "code",
      "source": [
        "df = spark.createDataFrame([('foo',)], ['str'])\n",
        "df.select(regexp_extract('str', r'(\\d+)', 1).alias('d')).collect()\n"
      ],
      "metadata": {
        "colab": {
          "base_uri": "https://localhost:8080/"
        },
        "id": "seD8ybU75ksx",
        "outputId": "a2e2ea12-86e0-43fb-c367-617668273fde"
      },
      "execution_count": 23,
      "outputs": [
        {
          "output_type": "execute_result",
          "data": {
            "text/plain": [
              "[Row(d='')]"
            ]
          },
          "metadata": {},
          "execution_count": 23
        }
      ]
    },
    {
      "cell_type": "code",
      "source": [
        "df = spark.createDataFrame([('aaaac',)], ['str'])\n",
        "df.select(regexp_extract('str', '(a+)(b)?(c)', 2).alias('d')).collect()"
      ],
      "metadata": {
        "colab": {
          "base_uri": "https://localhost:8080/"
        },
        "id": "FfXi-auJ6NWt",
        "outputId": "e761bb4d-07f2-4f78-a222-c61798c7c8f2"
      },
      "execution_count": 24,
      "outputs": [
        {
          "output_type": "execute_result",
          "data": {
            "text/plain": [
              "[Row(d='')]"
            ]
          },
          "metadata": {},
          "execution_count": 24
        }
      ]
    },
    {
      "cell_type": "code",
      "source": [
        "from pyspark.sql import SparkSession\n",
        "\n",
        "spark = SparkSession.builder.appName('RegexExtractExample').getOrCreate()\n",
        "\n",
        "data = [(\"1\", \"Hello, my email address is john@example.com\"), (\"2\", \"Please send me an email at alice@example.com\")]\n",
        "\n",
        "df = spark.createDataFrame(data, [\"id\", \"text\"])\n",
        "df.show(truncate=False)\n"
      ],
      "metadata": {
        "colab": {
          "base_uri": "https://localhost:8080/"
        },
        "id": "Yu0645066yrC",
        "outputId": "2d172353-d430-4a1a-d727-31d27ffef208"
      },
      "execution_count": 25,
      "outputs": [
        {
          "output_type": "stream",
          "name": "stdout",
          "text": [
            "+---+--------------------------------------------+\n",
            "|id |text                                        |\n",
            "+---+--------------------------------------------+\n",
            "|1  |Hello, my email address is john@example.com |\n",
            "|2  |Please send me an email at alice@example.com|\n",
            "+---+--------------------------------------------+\n",
            "\n"
          ]
        }
      ]
    },
    {
      "cell_type": "code",
      "source": [
        "from pyspark.sql.functions import regexp_extract\n",
        "\n",
        "email_pattern = r'\\b[A-Za-z0-9._%+-]+@[A-Za-z0-9.-]+\\.[A-Z|a-z]{2,}\\b'\n",
        "\n",
        "df = df.withColumn(\"email\", regexp_extract(\"text\", email_pattern, 0))\n",
        "df.show(truncate=False)\n"
      ],
      "metadata": {
        "colab": {
          "base_uri": "https://localhost:8080/"
        },
        "id": "C40uav8sYguT",
        "outputId": "e68f1fb4-e804-4e40-c77e-5b1230642b36"
      },
      "execution_count": 26,
      "outputs": [
        {
          "output_type": "stream",
          "name": "stdout",
          "text": [
            "+---+--------------------------------------------+-----------------+\n",
            "|id |text                                        |email            |\n",
            "+---+--------------------------------------------+-----------------+\n",
            "|1  |Hello, my email address is john@example.com |john@example.com |\n",
            "|2  |Please send me an email at alice@example.com|alice@example.com|\n",
            "+---+--------------------------------------------+-----------------+\n",
            "\n"
          ]
        }
      ]
    },
    {
      "cell_type": "markdown",
      "source": [
        "# foreach() vs foreachpartition()"
      ],
      "metadata": {
        "id": "3GUKqzku8kC4"
      }
    },
    {
      "cell_type": "code",
      "source": [
        "sc = spark.sparkContext"
      ],
      "metadata": {
        "id": "JPXp4K_wYeWh"
      },
      "execution_count": 35,
      "outputs": []
    },
    {
      "cell_type": "markdown",
      "source": [
        "**foreach():** This method applies a function to each element of a RDD."
      ],
      "metadata": {
        "id": "1qYGH6rHi09l"
      }
    },
    {
      "cell_type": "markdown",
      "source": [
        "**foreachPartition():** This method applies a function to each partition of a RDD. This can be useful for performing some initialization or cleanup operations on a per-partition basis."
      ],
      "metadata": {
        "id": "NIK8b50CjOts"
      }
    },
    {
      "cell_type": "code",
      "source": [
        "\n",
        "# Example for foreach()\n",
        "rdd = sc.parallelize([1, 2, 3, 4, 5])\n",
        "def print_element(elem):\n",
        "    print(elem)\n",
        "\n",
        "rdd.foreach(print_element)  # This will print each element of the RDD to the console\n",
        "\n",
        "# Example for foreachPartition()\n",
        "rdd = sc.parallelize([1, 2, 3, 4, 5], 2)\n",
        "def process_partition(partition):\n",
        "    for elem in partition:\n",
        "        print(elem)\n",
        "\n",
        "rdd.foreachPartition(process_partition)"
      ],
      "metadata": {
        "id": "vwQwFj9SfmXd"
      },
      "execution_count": 44,
      "outputs": []
    },
    {
      "cell_type": "markdown",
      "source": [
        "# map(): This method applies a function to each element of a RDD and returns a new RDD with the transformed values.\n",
        "\n",
        "\n",
        "\n",
        "# mapPartitions(): is a PySpark RDD transformation operation that applies a given function to each partition of an RDD"
      ],
      "metadata": {
        "id": "pX2hbw6ukNkf"
      }
    },
    {
      "cell_type": "code",
      "source": [
        "rdd = sc.parallelize([1,2,3,4,5,6,7,8,9])\n",
        "def square(sq):\n",
        "  return sq**2\n",
        "\n",
        "pp = rdd.map(square)\n",
        "pp.collect()"
      ],
      "metadata": {
        "colab": {
          "base_uri": "https://localhost:8080/"
        },
        "id": "9f_nl2fThRkQ",
        "outputId": "23d4b6f2-fae8-42ef-ccb4-b62fb2157bcf"
      },
      "execution_count": 46,
      "outputs": [
        {
          "output_type": "execute_result",
          "data": {
            "text/plain": [
              "[1, 4, 9, 16, 25, 36, 49, 64, 81]"
            ]
          },
          "metadata": {},
          "execution_count": 46
        }
      ]
    },
    {
      "cell_type": "code",
      "source": [
        "rdd = sc.parallelize([1,2,3,4,5,6,7,8,9],2)\n",
        "def square(sq):\n",
        "  return [sqr**2 for sqr in sq]\n",
        "\n",
        "pp = rdd.mapPartitions(square)\n",
        "pp.collect()"
      ],
      "metadata": {
        "colab": {
          "base_uri": "https://localhost:8080/"
        },
        "id": "IiNSTUZflj5p",
        "outputId": "30d9b2c1-fed3-4832-b4ce-5a7a0621817d"
      },
      "execution_count": 49,
      "outputs": [
        {
          "output_type": "execute_result",
          "data": {
            "text/plain": [
              "[1, 4, 9, 16, 25, 36, 49, 64, 81]"
            ]
          },
          "metadata": {},
          "execution_count": 49
        }
      ]
    },
    {
      "cell_type": "markdown",
      "source": [
        "# functions like fill.na drop.na drop fill practice"
      ],
      "metadata": {
        "id": "N6XzIVE8qzz7"
      }
    },
    {
      "cell_type": "code",
      "source": [],
      "metadata": {
        "id": "qlaGSvXUmK2a"
      },
      "execution_count": null,
      "outputs": []
    },
    {
      "cell_type": "markdown",
      "source": [
        "# Read Articles about SparkUI and garbage collector and DAGs "
      ],
      "metadata": {
        "id": "74IRPJ6KrDCF"
      }
    },
    {
      "cell_type": "code",
      "source": [],
      "metadata": {
        "id": "3ZTn15mHrNbz"
      },
      "execution_count": null,
      "outputs": []
    }
  ]
}