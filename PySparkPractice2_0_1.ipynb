{
  "nbformat": 4,
  "nbformat_minor": 0,
  "metadata": {
    "colab": {
      "provenance": [],
      "authorship_tag": "ABX9TyOHEsbse9RIuCNjAXi4e0+z",
      "include_colab_link": true
    },
    "kernelspec": {
      "name": "python3",
      "display_name": "Python 3"
    },
    "language_info": {
      "name": "python"
    }
  },
  "cells": [
    {
      "cell_type": "markdown",
      "metadata": {
        "id": "view-in-github",
        "colab_type": "text"
      },
      "source": [
        "<a href=\"https://colab.research.google.com/github/Piyu569/SparkProject02/blob/dev/PySparkPractice2_0_1.ipynb\" target=\"_parent\"><img src=\"https://colab.research.google.com/assets/colab-badge.svg\" alt=\"Open In Colab\"/></a>"
      ]
    },
    {
      "cell_type": "code",
      "execution_count": 1,
      "metadata": {
        "colab": {
          "base_uri": "https://localhost:8080/"
        },
        "id": "SjMxxERle-O4",
        "outputId": "e107c552-4058-417b-a6c6-820c0522f5d8"
      },
      "outputs": [
        {
          "output_type": "stream",
          "name": "stdout",
          "text": [
            "Looking in indexes: https://pypi.org/simple, https://us-python.pkg.dev/colab-wheels/public/simple/\n",
            "Collecting pyspark\n",
            "  Downloading pyspark-3.3.2.tar.gz (281.4 MB)\n",
            "\u001b[2K     \u001b[90m━━━━━━━━━━━━━━━━━━━━━━━━━━━━━━━━━━━━━━━\u001b[0m \u001b[32m281.4/281.4 MB\u001b[0m \u001b[31m5.2 MB/s\u001b[0m eta \u001b[36m0:00:00\u001b[0m\n",
            "\u001b[?25h  Preparing metadata (setup.py) ... \u001b[?25l\u001b[?25hdone\n",
            "Collecting py4j==0.10.9.5\n",
            "  Downloading py4j-0.10.9.5-py2.py3-none-any.whl (199 kB)\n",
            "\u001b[2K     \u001b[90m━━━━━━━━━━━━━━━━━━━━━━━━━━━━━━━━━━━━━━\u001b[0m \u001b[32m199.7/199.7 KB\u001b[0m \u001b[31m22.0 MB/s\u001b[0m eta \u001b[36m0:00:00\u001b[0m\n",
            "\u001b[?25hBuilding wheels for collected packages: pyspark\n",
            "  Building wheel for pyspark (setup.py) ... \u001b[?25l\u001b[?25hdone\n",
            "  Created wheel for pyspark: filename=pyspark-3.3.2-py2.py3-none-any.whl size=281824028 sha256=5e94d4f96e92cf4a8fc594cfea6daf81614a81582c67f5e38f95a297b963c9b5\n",
            "  Stored in directory: /root/.cache/pip/wheels/6c/e3/9b/0525ce8a69478916513509d43693511463c6468db0de237c86\n",
            "Successfully built pyspark\n",
            "Installing collected packages: py4j, pyspark\n",
            "  Attempting uninstall: py4j\n",
            "    Found existing installation: py4j 0.10.9.7\n",
            "    Uninstalling py4j-0.10.9.7:\n",
            "      Successfully uninstalled py4j-0.10.9.7\n",
            "Successfully installed py4j-0.10.9.5 pyspark-3.3.2\n"
          ]
        }
      ],
      "source": [
        "pip install pyspark"
      ]
    },
    {
      "cell_type": "code",
      "source": [
        "from pyspark.sql import SparkSession"
      ],
      "metadata": {
        "id": "bgk4kKt7okuC"
      },
      "execution_count": 2,
      "outputs": []
    },
    {
      "cell_type": "code",
      "source": [
        "from pyspark import SparkContext\n",
        "spark = SparkSession.builder.appName(\"SportsCar\").getOrCreate()\n",
        "sc = spark.sparkContext"
      ],
      "metadata": {
        "id": "oQx9fE5So-C-"
      },
      "execution_count": 3,
      "outputs": []
    },
    {
      "cell_type": "code",
      "source": [
        "df = spark.read.csv(\"/content/SportsCarPrice.csv\",inferSchema=True , header=True)"
      ],
      "metadata": {
        "id": "kiSlq9qcpJ5b"
      },
      "execution_count": 5,
      "outputs": []
    },
    {
      "cell_type": "code",
      "source": [
        "from pyspark.storagelevel import StorageLevel\n",
        "df.persist(StorageLevel.MEMORY_AND_DISK)"
      ],
      "metadata": {
        "colab": {
          "base_uri": "https://localhost:8080/"
        },
        "id": "NajzS-mAphEn",
        "outputId": "da278583-5a0e-480a-8f66-9125adfd283f"
      },
      "execution_count": 6,
      "outputs": [
        {
          "output_type": "execute_result",
          "data": {
            "text/plain": [
              "DataFrame[Car Make: string, Car Model: string, Year: int, Engine Size (L): string, Horsepower: string, Torque (lb-ft): string, 0-60 MPH Time (seconds): string, Price (in USD): string]"
            ]
          },
          "metadata": {},
          "execution_count": 6
        }
      ]
    },
    {
      "cell_type": "code",
      "source": [
        "df.printSchema()"
      ],
      "metadata": {
        "colab": {
          "base_uri": "https://localhost:8080/"
        },
        "id": "oMri2rCxpz4f",
        "outputId": "45f55d5c-ca9b-4c87-c381-91350e4da86b"
      },
      "execution_count": 7,
      "outputs": [
        {
          "output_type": "stream",
          "name": "stdout",
          "text": [
            "root\n",
            " |-- Car Make: string (nullable = true)\n",
            " |-- Car Model: string (nullable = true)\n",
            " |-- Year: integer (nullable = true)\n",
            " |-- Engine Size (L): string (nullable = true)\n",
            " |-- Horsepower: string (nullable = true)\n",
            " |-- Torque (lb-ft): string (nullable = true)\n",
            " |-- 0-60 MPH Time (seconds): string (nullable = true)\n",
            " |-- Price (in USD): string (nullable = true)\n",
            "\n"
          ]
        }
      ]
    },
    {
      "cell_type": "code",
      "source": [
        "df.show()"
      ],
      "metadata": {
        "colab": {
          "base_uri": "https://localhost:8080/"
        },
        "id": "TWkRKa8Ep7BD",
        "outputId": "e352c31e-0afa-41d3-9cab-c900c0ad9dac"
      },
      "execution_count": 8,
      "outputs": [
        {
          "output_type": "stream",
          "name": "stdout",
          "text": [
            "+-------------+--------------------+----+---------------+----------+--------------+-----------------------+--------------+\n",
            "|     Car Make|           Car Model|Year|Engine Size (L)|Horsepower|Torque (lb-ft)|0-60 MPH Time (seconds)|Price (in USD)|\n",
            "+-------------+--------------------+----+---------------+----------+--------------+-----------------------+--------------+\n",
            "|      Porsche|                 911|2022|              3|       379|           331|                      4|       101,200|\n",
            "|  Lamborghini|             Huracan|2021|            5.2|       630|           443|                    2.8|       274,390|\n",
            "|      Ferrari|             488 GTB|2022|            3.9|       661|           561|                      3|       333,750|\n",
            "|         Audi|                  R8|2022|            5.2|       562|           406|                    3.2|       142,700|\n",
            "|      McLaren|                720S|2021|              4|       710|           568|                    2.7|       298,000|\n",
            "|          BMW|                  M8|2022|            4.4|       617|           553|                    3.1|       130,000|\n",
            "|Mercedes-Benz|              AMG GT|2021|              4|       523|           494|                    3.8|       118,500|\n",
            "|    Chevrolet|            Corvette|2021|            6.2|       490|           465|                    2.8|        59,900|\n",
            "|         Ford|Mustang Shelby GT500|2022|            5.2|       760|           625|                    3.5|        81,000|\n",
            "|       Nissan|          GT-R Nismo|2021|            3.8|       600|           481|                    2.5|       212,000|\n",
            "| Aston Martin|                DB11|2021|            5.2|       630|           516|                    3.5|       201,495|\n",
            "|      Bugatti|              Chiron|2021|              8|      1500|          1180|                    2.4|     3,000,000|\n",
            "|        Dodge|Challenger SRT He...|2022|            6.2|       717|           656|                    3.5|        61,000|\n",
            "|       Jaguar|              F-Type|2022|              3|       296|           295|                    5.4|        70,100|\n",
            "|   Koenigsegg|               Jesko|2021|              5|      1280|          1015|                    2.5|     2,800,000|\n",
            "|        Lexus|              LC 500|2021|              5|       471|           398|                    4.4|        92,950|\n",
            "|        Lotus|            Evora GT|2021|            3.5|       416|           317|                    3.8|       104,450|\n",
            "|     Maserati|         GranTurismo|2021|            4.7|       454|           384|                    4.8|       150,000|\n",
            "|      Porsche|             Boxster|2021|              2|       300|           280|                    4.7|        62,000|\n",
            "|   Alfa Romeo| Giulia Quadrifoglio|2022|            2.9|       505|           443|                    3.8|        78,000|\n",
            "+-------------+--------------------+----+---------------+----------+--------------+-----------------------+--------------+\n",
            "only showing top 20 rows\n",
            "\n"
          ]
        }
      ]
    },
    {
      "cell_type": "code",
      "source": [
        "display(df)"
      ],
      "metadata": {
        "colab": {
          "base_uri": "https://localhost:8080/",
          "height": 52
        },
        "id": "kGqNgTRCp86_",
        "outputId": "07d99f5b-7e92-46f6-add0-6d042b55d210"
      },
      "execution_count": 9,
      "outputs": [
        {
          "output_type": "display_data",
          "data": {
            "text/plain": [
              "DataFrame[Car Make: string, Car Model: string, Year: int, Engine Size (L): string, Horsepower: string, Torque (lb-ft): string, 0-60 MPH Time (seconds): string, Price (in USD): string]"
            ]
          },
          "metadata": {}
        }
      ]
    },
    {
      "cell_type": "code",
      "source": [
        "df.rdd.getStorageLevel()"
      ],
      "metadata": {
        "colab": {
          "base_uri": "https://localhost:8080/"
        },
        "id": "fPluP4X2rDUe",
        "outputId": "0604cc5d-92f0-4b24-bc25-4d1a6d6bec66"
      },
      "execution_count": 10,
      "outputs": [
        {
          "output_type": "execute_result",
          "data": {
            "text/plain": [
              "StorageLevel(False, False, False, False, 1)"
            ]
          },
          "metadata": {},
          "execution_count": 10
        }
      ]
    },
    {
      "cell_type": "code",
      "source": [
        "df.rdd.getNumPartitions()"
      ],
      "metadata": {
        "colab": {
          "base_uri": "https://localhost:8080/"
        },
        "id": "_d3XxeSnroZ_",
        "outputId": "4c51379e-9737-4fca-818d-eea54e9695d4"
      },
      "execution_count": 11,
      "outputs": [
        {
          "output_type": "execute_result",
          "data": {
            "text/plain": [
              "1"
            ]
          },
          "metadata": {},
          "execution_count": 11
        }
      ]
    },
    {
      "cell_type": "code",
      "source": [
        "df.show()"
      ],
      "metadata": {
        "colab": {
          "base_uri": "https://localhost:8080/"
        },
        "id": "h7grUA_3rwy_",
        "outputId": "c7b7e5aa-2623-4b3b-bc25-e1135954fbfa"
      },
      "execution_count": null,
      "outputs": [
        {
          "output_type": "stream",
          "name": "stdout",
          "text": [
            "+-------------+--------------------+----+---------------+----------+--------------+-----------------------+--------------+\n",
            "|     Car Make|           Car Model|Year|Engine Size (L)|Horsepower|Torque (lb-ft)|0-60 MPH Time (seconds)|Price (in USD)|\n",
            "+-------------+--------------------+----+---------------+----------+--------------+-----------------------+--------------+\n",
            "|      Porsche|                 911|2022|              3|       379|           331|                      4|       101,200|\n",
            "|  Lamborghini|             Huracan|2021|            5.2|       630|           443|                    2.8|       274,390|\n",
            "|      Ferrari|             488 GTB|2022|            3.9|       661|           561|                      3|       333,750|\n",
            "|         Audi|                  R8|2022|            5.2|       562|           406|                    3.2|       142,700|\n",
            "|      McLaren|                720S|2021|              4|       710|           568|                    2.7|       298,000|\n",
            "|          BMW|                  M8|2022|            4.4|       617|           553|                    3.1|       130,000|\n",
            "|Mercedes-Benz|              AMG GT|2021|              4|       523|           494|                    3.8|       118,500|\n",
            "|    Chevrolet|            Corvette|2021|            6.2|       490|           465|                    2.8|        59,900|\n",
            "|         Ford|Mustang Shelby GT500|2022|            5.2|       760|           625|                    3.5|        81,000|\n",
            "|       Nissan|          GT-R Nismo|2021|            3.8|       600|           481|                    2.5|       212,000|\n",
            "| Aston Martin|                DB11|2021|            5.2|       630|           516|                    3.5|       201,495|\n",
            "|      Bugatti|              Chiron|2021|              8|      1500|          1180|                    2.4|     3,000,000|\n",
            "|        Dodge|Challenger SRT He...|2022|            6.2|       717|           656|                    3.5|        61,000|\n",
            "|       Jaguar|              F-Type|2022|              3|       296|           295|                    5.4|        70,100|\n",
            "|   Koenigsegg|               Jesko|2021|              5|      1280|          1015|                    2.5|     2,800,000|\n",
            "|        Lexus|              LC 500|2021|              5|       471|           398|                    4.4|        92,950|\n",
            "|        Lotus|            Evora GT|2021|            3.5|       416|           317|                    3.8|       104,450|\n",
            "|     Maserati|         GranTurismo|2021|            4.7|       454|           384|                    4.8|       150,000|\n",
            "|      Porsche|             Boxster|2021|              2|       300|           280|                    4.7|        62,000|\n",
            "|   Alfa Romeo| Giulia Quadrifoglio|2022|            2.9|       505|           443|                    3.8|        78,000|\n",
            "+-------------+--------------------+----+---------------+----------+--------------+-----------------------+--------------+\n",
            "only showing top 20 rows\n",
            "\n"
          ]
        }
      ]
    },
    {
      "cell_type": "code",
      "source": [
        "from pyspark.sql.functions import regexp_replace,col,max\n",
        "fastest_car = (df.withColumn(\"Horsepower\",regexp_replace(col(\"Horsepower\"),\"\",\"\").cast(\"integer\"))\n",
        "                 .groupBy(\"Car Make\",\"Car Model\",\"Engine Size (L)\")\n",
        "                 .agg(max(\"Horsepower\").alias(\"Fastest_car\"))\n",
        "                 .select(\"*\")\n",
        "                 .orderBy(col(\"Fastest_car\").desc_nulls_last())\n",
        "                 .show(20,False)\n",
        ")"
      ],
      "metadata": {
        "colab": {
          "base_uri": "https://localhost:8080/"
        },
        "id": "cnplnuEqIhB8",
        "outputId": "c6032b42-1b64-4e05-f2db-0fc2f3fc9a6e"
      },
      "execution_count": 12,
      "outputs": [
        {
          "output_type": "stream",
          "name": "stdout",
          "text": [
            "+-----------+-----------------------+--------------------+-----------+\n",
            "|Car Make   |Car Model              |Engine Size (L)     |Fastest_car|\n",
            "+-----------+-----------------------+--------------------+-----------+\n",
            "|Lotus      |Evija                  |Electric            |2000       |\n",
            "|Lotus      |Evija                  |N/A                 |1972       |\n",
            "|Lotus      |Evija                  |Electric Motor      |1972       |\n",
            "|Rimac      |Nevera                 |Electric            |1914       |\n",
            "|Rimac      |C_Two                  |N/A                 |1914       |\n",
            "|Rimac      |C_Two                  |Electric            |1914       |\n",
            "|Rimac      |Nevera                 |Electric Motor      |1888       |\n",
            "|Pininfarina|Battista               |Electric            |1874       |\n",
            "|Koenigsegg |Jesko Absolut          |5                   |1600       |\n",
            "|Koenigsegg |Jesko                  |5                   |1600       |\n",
            "|Bugatti    |Chiron Super Sport 300+|8                   |1578       |\n",
            "|Bugatti    |Chiron Pur Sport       |8                   |1500       |\n",
            "|Bugatti    |Chiron                 |8                   |1500       |\n",
            "|Ultima     |RS                     |6.2                 |1200       |\n",
            "|McLaren    |Speedtail              |4                   |1035       |\n",
            "|Tesla      |Model S Plaid          |Electric (tri-motor)|1020       |\n",
            "|Tesla      |Model S Plaid          |Electric (100 kWh)  |1020       |\n",
            "|Tesla      |Model S                |Electric            |1020       |\n",
            "|Tesla      |Model S Plaid          |Electric            |1020       |\n",
            "|Tesla      |Model S Plaid          |N/A                 |1020       |\n",
            "+-----------+-----------------------+--------------------+-----------+\n",
            "only showing top 20 rows\n",
            "\n"
          ]
        }
      ]
    },
    {
      "cell_type": "code",
      "source": [
        "from pyspark.sql.functions import col,regexp_replace\n",
        "costly_car = (\n",
        "               df.withColumn(\"Price (in USD)\",regexp_replace(col(\"Price (in USD)\"),\",\",\"\").cast(\"integer\"))\n",
        "                 .groupBy(\"Car Make\")\n",
        "                 .max(\"Price (in USD)\")\n",
        "                 .sort(\"max(Price (in USD))\",ascending= False)\n",
        "                 .show()\n",
        ")"
      ],
      "metadata": {
        "colab": {
          "base_uri": "https://localhost:8080/"
        },
        "id": "UtSUFbfIKLs8",
        "outputId": "68441263-697a-488b-9988-a1c0d8a99139"
      },
      "execution_count": 13,
      "outputs": [
        {
          "output_type": "stream",
          "name": "stdout",
          "text": [
            "+-------------+-------------------+\n",
            "|     Car Make|max(Price (in USD))|\n",
            "+-------------+-------------------+\n",
            "|      Bugatti|            5200000|\n",
            "|  Lamborghini|            3600000|\n",
            "|       Pagani|            3500000|\n",
            "|     W Motors|            3400000|\n",
            "|   Koenigsegg|            3000000|\n",
            "|        Lotus|            2800000|\n",
            "|  Pininfarina|            2500000|\n",
            "|        Rimac|            2400000|\n",
            "|      McLaren|            2300000|\n",
            "|      Porsche|            1800000|\n",
            "|       Shelby|            1000000|\n",
            "|      Ferrari|             625000|\n",
            "|         Ford|             500000|\n",
            "|  Rolls-Royce|             346300|\n",
            "|Mercedes-Benz|             335000|\n",
            "| Mercedes-AMG|             330000|\n",
            "| Aston Martin|             330000|\n",
            "|      Bentley|             300000|\n",
            "|       Ultima|             220000|\n",
            "|       Nissan|             212000|\n",
            "+-------------+-------------------+\n",
            "only showing top 20 rows\n",
            "\n"
          ]
        }
      ]
    },
    {
      "cell_type": "code",
      "source": [
        "from pyspark.sql.functions import col \n",
        "filter_on_horse_Engine_Size =  (\n",
        "                                 df.filter((col(\"Horsepower\")>\"500\") & (col(\"Engine Size (L)\") >= \"4\"))\n",
        ").show()"
      ],
      "metadata": {
        "colab": {
          "base_uri": "https://localhost:8080/"
        },
        "id": "SAm73gN7czZi",
        "outputId": "2044b5e9-7e3c-4ea6-b55e-94afbf411270"
      },
      "execution_count": 14,
      "outputs": [
        {
          "output_type": "stream",
          "name": "stdout",
          "text": [
            "+-------------+--------------------+----+---------------+----------+--------------+-----------------------+--------------+\n",
            "|     Car Make|           Car Model|Year|Engine Size (L)|Horsepower|Torque (lb-ft)|0-60 MPH Time (seconds)|Price (in USD)|\n",
            "+-------------+--------------------+----+---------------+----------+--------------+-----------------------+--------------+\n",
            "|  Lamborghini|             Huracan|2021|            5.2|       630|           443|                    2.8|       274,390|\n",
            "|         Audi|                  R8|2022|            5.2|       562|           406|                    3.2|       142,700|\n",
            "|      McLaren|                720S|2021|              4|       710|           568|                    2.7|       298,000|\n",
            "|          BMW|                  M8|2022|            4.4|       617|           553|                    3.1|       130,000|\n",
            "|Mercedes-Benz|              AMG GT|2021|              4|       523|           494|                    3.8|       118,500|\n",
            "|         Ford|Mustang Shelby GT500|2022|            5.2|       760|           625|                    3.5|        81,000|\n",
            "| Aston Martin|                DB11|2021|            5.2|       630|           516|                    3.5|       201,495|\n",
            "|        Dodge|Challenger SRT He...|2022|            6.2|       717|           656|                    3.5|        61,000|\n",
            "|      Bentley|      Continental GT|2021|              6|       626|           664|                    3.6|       225,000|\n",
            "| Mercedes-AMG|             SLS AMG|2021|            6.2|       622|           468|                    3.5|       248,000|\n",
            "|       Pagani|              Huayra|2021|              6|       720|           737|                    2.8|     2,800,000|\n",
            "|  Lamborghini|       Aventador SVJ|2021|            6.5|       759|           531|                    2.8|       517,770|\n",
            "|      Ferrari|       SF90 Stradale|2021|              4|       986|           590|                    2.5|       625,000|\n",
            "|         Audi|                 RS7|2022|              4|       591|           590|                    3.5|       117,000|\n",
            "|Mercedes-Benz|             SLS AMG|2015|            6.2|       622|           468|                    3.2|       222,000|\n",
            "|    Chevrolet|          Camaro ZL1|2021|            6.2|       650|           650|                    3.5|        64,695|\n",
            "|      Porsche|           Taycan 4S|2022| Electric Motor|       562|           479|                    3.8|       104,000|\n",
            "|  Lamborghini|                Urus|2021|              4|       641|           626|                    3.5|       218,000|\n",
            "|      McLaren|                  GT|2021|              4|       612|           465|                    3.1|       210,000|\n",
            "|Mercedes-Benz|           CLS63 AMG|2019|              4|       603|           627|                    3.4|       132,000|\n",
            "+-------------+--------------------+----+---------------+----------+--------------+-----------------------+--------------+\n",
            "only showing top 20 rows\n",
            "\n"
          ]
        }
      ]
    },
    {
      "cell_type": "markdown",
      "source": [
        "# New \n",
        "**ACTIONS IN PYSPARK RDD**"
      ],
      "metadata": {
        "id": "jAYXVbDQFtxx"
      }
    },
    {
      "cell_type": "code",
      "source": [
        "collect_rdd = sc.parallelize([1,2,3,4,5])\n",
        "print(collect_rdd.collect())\n",
        "collect_rdd.getNumPartitions()\n"
      ],
      "metadata": {
        "colab": {
          "base_uri": "https://localhost:8080/"
        },
        "id": "Ds34tm3HcoRq",
        "outputId": "baf476dd-dcbf-41d9-8de1-ffe48661b595"
      },
      "execution_count": 15,
      "outputs": [
        {
          "output_type": "stream",
          "name": "stdout",
          "text": [
            "[1, 2, 3, 4, 5]\n"
          ]
        },
        {
          "output_type": "execute_result",
          "data": {
            "text/plain": [
              "2"
            ]
          },
          "metadata": {},
          "execution_count": 15
        }
      ]
    },
    {
      "cell_type": "code",
      "source": [
        "count_rdd = sc.parallelize([1,2,3,4,5,5,6,7,8,9],numSlices = 8)\n",
        "print(count_rdd.count())\n",
        "count_rdd.getNumPartitions()"
      ],
      "metadata": {
        "colab": {
          "base_uri": "https://localhost:8080/"
        },
        "id": "TE9ixTiZGkMs",
        "outputId": "52268828-4077-4510-e9ec-8c45f306daaf"
      },
      "execution_count": 16,
      "outputs": [
        {
          "output_type": "stream",
          "name": "stdout",
          "text": [
            "10\n"
          ]
        },
        {
          "output_type": "execute_result",
          "data": {
            "text/plain": [
              "8"
            ]
          },
          "metadata": {},
          "execution_count": 16
        }
      ]
    },
    {
      "cell_type": "code",
      "source": [
        "first_rdd = sc.parallelize([1,2,3,4,5,6,7,8,9,10])\n",
        "print(first_rdd.first())"
      ],
      "metadata": {
        "colab": {
          "base_uri": "https://localhost:8080/"
        },
        "id": "8F2lZvSHIoDF",
        "outputId": "7f9e572d-40f6-4f2f-91de-ac1460853d21"
      },
      "execution_count": 17,
      "outputs": [
        {
          "output_type": "stream",
          "name": "stdout",
          "text": [
            "1\n"
          ]
        }
      ]
    },
    {
      "cell_type": "code",
      "source": [
        "take_rdd = sc.parallelize([1,2,3,4,5])\n",
        "print(take_rdd.take(3))"
      ],
      "metadata": {
        "colab": {
          "base_uri": "https://localhost:8080/"
        },
        "id": "IOZyTuPQI8ec",
        "outputId": "6480d29f-0e79-4dea-eaa0-91c1d3d0c61d"
      },
      "execution_count": 18,
      "outputs": [
        {
          "output_type": "stream",
          "name": "stdout",
          "text": [
            "[1, 2, 3]\n"
          ]
        }
      ]
    },
    {
      "cell_type": "code",
      "source": [
        "reduce_rdd = sc.parallelize([1,3,4,6])\n",
        "print(reduce_rdd.reduce(lambda x, y : x + y))"
      ],
      "metadata": {
        "colab": {
          "base_uri": "https://localhost:8080/"
        },
        "id": "FFj4vbDqI_31",
        "outputId": "08d834bc-b818-4c2a-8200-9a01641bc448"
      },
      "execution_count": 19,
      "outputs": [
        {
          "output_type": "stream",
          "name": "stdout",
          "text": [
            "14\n"
          ]
        }
      ]
    },
    {
      "cell_type": "markdown",
      "source": [
        "**TRANSFORMATION IN PYSPARK WITH RDD**"
      ],
      "metadata": {
        "id": "d7OwjVJmJMxB"
      }
    },
    {
      "cell_type": "markdown",
      "source": [
        "# .map()\n",
        " As the name suggests, the .map() transformation maps a value to the elements of an RDD. The .map() transformation takes in an anonymous function and applies this function to each of the elements in the RDD. For example, If we want to add 10 to each of the elements present in RDD, the .map() transformation would come in handy. This operation saves time and goes with the DRY policy. Let’s understand this with an"
      ],
      "metadata": {
        "id": "y1NiURlDJdP0"
      }
    },
    {
      "cell_type": "code",
      "source": [
        "my_rdd = sc.parallelize([1,2,3,4])\n",
        "print(my_rdd.map(lambda x: x+ 10).collect())"
      ],
      "metadata": {
        "colab": {
          "base_uri": "https://localhost:8080/"
        },
        "id": "gB4nNWBdJGOx",
        "outputId": "81f345a1-217f-4d8d-dd5a-0600456bc503"
      },
      "execution_count": 20,
      "outputs": [
        {
          "output_type": "stream",
          "name": "stdout",
          "text": [
            "[11, 12, 13, 14]\n"
          ]
        }
      ]
    },
    {
      "cell_type": "markdown",
      "source": [
        "# **.filter()**\n",
        "A .filter() transformation is an operation in PySpark for filtering elements from a PySpark RDD. The .filter() transformation takes in an anonymous function with a condition. Again, since it’s a transformation, it returns an RDD having elements that had passed the given condition. For example, we want to return only an even number of elements, we can use the .filter() transformation."
      ],
      "metadata": {
        "id": "g7LYUTrDJoDI"
      }
    },
    {
      "cell_type": "code",
      "source": [
        "filter_rdd = sc.parallelize([2, 3, 4, 5, 6, 7])\n",
        "print(filter_rdd.filter(lambda x: x%2 == 0).collect())"
      ],
      "metadata": {
        "colab": {
          "base_uri": "https://localhost:8080/"
        },
        "id": "o3cBP4ZiJm5P",
        "outputId": "d4bfa99b-690a-421e-b170-ab740fc6e96f"
      },
      "execution_count": 21,
      "outputs": [
        {
          "output_type": "stream",
          "name": "stdout",
          "text": [
            "[2, 4, 6]\n"
          ]
        }
      ]
    },
    {
      "cell_type": "markdown",
      "source": [
        "#.union()\n",
        "The .union() transformation combines two RDDs and returns the union of the input two RDDs. This can be helpful to extract elements from similar characteristics from two RDDs into a single RDD."
      ],
      "metadata": {
        "id": "RbxsO3X8J-eU"
      }
    },
    {
      "cell_type": "code",
      "source": [
        "union_inp = sc.parallelize([2,4,5,6,7,8,9])\n",
        "union_rdd_1 = union_inp.filter(lambda x: x % 2 == 0)\n",
        "union_rdd_2 = union_inp.filter(lambda x: x % 3 == 0)\n",
        "print(union_rdd_1.union(union_rdd_2).collect())"
      ],
      "metadata": {
        "colab": {
          "base_uri": "https://localhost:8080/"
        },
        "id": "QGDpZw69J7zN",
        "outputId": "a74e0f34-8ceb-4d11-b14c-fcebc5afb44c"
      },
      "execution_count": 22,
      "outputs": [
        {
          "output_type": "stream",
          "name": "stdout",
          "text": [
            "[2, 4, 6, 8, 6, 9]\n"
          ]
        }
      ]
    },
    {
      "cell_type": "markdown",
      "source": [
        "# .flatMap()\n",
        " The .flatMap() transformation peforms same as the .map() transformation except the fact that .flatMap() transformation return seperate values for each element from original RDD"
      ],
      "metadata": {
        "id": "xVFi0vAyKQm2"
      }
    },
    {
      "cell_type": "code",
      "source": [
        "flatmap_rdd = sc.parallelize([\"Hey there\", \"This is PySpark RDD Transformations\"])\n",
        "(flatmap_rdd.flatMap(lambda x: x.split(\" \")).collect())"
      ],
      "metadata": {
        "colab": {
          "base_uri": "https://localhost:8080/"
        },
        "id": "COo3Mfy9KF_y",
        "outputId": "d557fdc2-27a0-43eb-dc72-6107f7995f0f"
      },
      "execution_count": 23,
      "outputs": [
        {
          "output_type": "execute_result",
          "data": {
            "text/plain": [
              "['Hey', 'there', 'This', 'is', 'PySpark', 'RDD', 'Transformations']"
            ]
          },
          "metadata": {},
          "execution_count": 23
        }
      ]
    },
    {
      "cell_type": "markdown",
      "source": [
        "**PySpark Pair RDD Operations**"
      ],
      "metadata": {
        "id": "HAWwGu78KamF"
      }
    },
    {
      "cell_type": "code",
      "source": [
        "marks = [('Rahul', 88), ('Swati', 92), ('Shreya', 83), ('Abhay', 93), ('Rohan', 78)]\n",
        "sc.parallelize(marks).collect()\n"
      ],
      "metadata": {
        "colab": {
          "base_uri": "https://localhost:8080/"
        },
        "id": "qMxtPlHGKZzO",
        "outputId": "69202080-f49b-4621-8745-51357efc1686"
      },
      "execution_count": 24,
      "outputs": [
        {
          "output_type": "execute_result",
          "data": {
            "text/plain": [
              "[('Rahul', 88), ('Swati', 92), ('Shreya', 83), ('Abhay', 93), ('Rohan', 78)]"
            ]
          },
          "metadata": {},
          "execution_count": 24
        }
      ]
    },
    {
      "cell_type": "markdown",
      "source": [
        "#inner join\n",
        " "
      ],
      "metadata": {
        "id": "cdKTLElMZTyy"
      }
    },
    {
      "cell_type": "code",
      "source": [
        "rdd1 = sc.parallelize([(1,\"Apple\"),(2,\"Banana\"),(3,\"Orange\")])\n",
        "rdd2 = sc.parallelize([(1,\"Red\"),(2,\"Yellow\"),(4,\"Green\")])\n",
        "\n"
      ],
      "metadata": {
        "id": "2BPEkrGNKm8P"
      },
      "execution_count": 25,
      "outputs": []
    },
    {
      "cell_type": "code",
      "source": [
        "\n",
        "\n",
        "# Inner Join\n",
        "inner_join = rdd1.join(rdd2)\n",
        "inner_join.collect()"
      ],
      "metadata": {
        "colab": {
          "base_uri": "https://localhost:8080/"
        },
        "id": "MbVAOlXjaAyd",
        "outputId": "35291898-7638-4204-f9ef-603d59add5a8"
      },
      "execution_count": 26,
      "outputs": [
        {
          "output_type": "execute_result",
          "data": {
            "text/plain": [
              "[(1, ('Apple', 'Red')), (2, ('Banana', 'Yellow'))]"
            ]
          },
          "metadata": {},
          "execution_count": 26
        }
      ]
    },
    {
      "cell_type": "code",
      "source": [
        "#outer Join\n",
        "outer_join = rdd1.fullOuterJoin(rdd2)\n",
        "outer_join.collect()"
      ],
      "metadata": {
        "colab": {
          "base_uri": "https://localhost:8080/"
        },
        "id": "-fmRb4ZCaRas",
        "outputId": "8242ed2c-f0f2-4738-b3b0-36c457c1e345"
      },
      "execution_count": 27,
      "outputs": [
        {
          "output_type": "execute_result",
          "data": {
            "text/plain": [
              "[(4, (None, 'Green')),\n",
              " (1, ('Apple', 'Red')),\n",
              " (2, ('Banana', 'Yellow')),\n",
              " (3, ('Orange', None))]"
            ]
          },
          "metadata": {},
          "execution_count": 27
        }
      ]
    },
    {
      "cell_type": "code",
      "source": [
        "#leftOuter\n",
        "left_outer_join = rdd1.leftOuterJoin(rdd2)\n",
        "left_outer_join.collect()"
      ],
      "metadata": {
        "colab": {
          "base_uri": "https://localhost:8080/"
        },
        "id": "goVHskJOdAAk",
        "outputId": "25e48fc7-1de8-471e-e12d-5cc86c5a797f"
      },
      "execution_count": 28,
      "outputs": [
        {
          "output_type": "execute_result",
          "data": {
            "text/plain": [
              "[(1, ('Apple', 'Red')), (2, ('Banana', 'Yellow')), (3, ('Orange', None))]"
            ]
          },
          "metadata": {},
          "execution_count": 28
        }
      ]
    },
    {
      "cell_type": "code",
      "source": [
        "#rightOuter\n",
        "right_outer_join = rdd1.rightOuterJoin(rdd2)\n",
        "right_outer_join.collect()"
      ],
      "metadata": {
        "colab": {
          "base_uri": "https://localhost:8080/"
        },
        "id": "6SVv8_tudT9L",
        "outputId": "52d85622-fc07-486d-d378-03f2d7f85532"
      },
      "execution_count": 29,
      "outputs": [
        {
          "output_type": "execute_result",
          "data": {
            "text/plain": [
              "[(4, (None, 'Green')), (1, ('Apple', 'Red')), (2, ('Banana', 'Yellow'))]"
            ]
          },
          "metadata": {},
          "execution_count": 29
        }
      ]
    },
    {
      "cell_type": "code",
      "source": [
        "#left anti join\n",
        "left_anti_join = rdd1.subtractByKey(rdd2)\n",
        "left_anti_join.collect()"
      ],
      "metadata": {
        "colab": {
          "base_uri": "https://localhost:8080/"
        },
        "id": "Lstz-1M3dup6",
        "outputId": "4c0470b3-875a-4c07-977c-1c9296288b8b"
      },
      "execution_count": 30,
      "outputs": [
        {
          "output_type": "execute_result",
          "data": {
            "text/plain": [
              "[(3, 'Orange')]"
            ]
          },
          "metadata": {},
          "execution_count": 30
        }
      ]
    },
    {
      "cell_type": "code",
      "source": [
        "#left semi join\n",
        "left_semi_join = rdd1.subtractByKey(left_anti_join)\n",
        "left_semi_join_1 = rdd1.subtractByKey(rdd1.subtractByKey(rdd2))\n",
        "# left_semi_join.collect()\n",
        "left_semi_join_1.collect()"
      ],
      "metadata": {
        "colab": {
          "base_uri": "https://localhost:8080/"
        },
        "id": "j9gUVA8XgMQT",
        "outputId": "28907ba8-5309-4c26-c7d3-88bb3af48944"
      },
      "execution_count": 31,
      "outputs": [
        {
          "output_type": "execute_result",
          "data": {
            "text/plain": [
              "[(1, 'Apple'), (2, 'Banana')]"
            ]
          },
          "metadata": {},
          "execution_count": 31
        }
      ]
    },
    {
      "cell_type": "code",
      "source": [
        "#cross join\n",
        "cartesian_join= rdd1.cartesian(rdd2)\n",
        "cartesian_join.collect()"
      ],
      "metadata": {
        "colab": {
          "base_uri": "https://localhost:8080/"
        },
        "id": "pSiDkVh8gsLH",
        "outputId": "abc97691-1375-4c3d-f4f3-061241e84262"
      },
      "execution_count": 32,
      "outputs": [
        {
          "output_type": "execute_result",
          "data": {
            "text/plain": [
              "[((1, 'Apple'), (1, 'Red')),\n",
              " ((1, 'Apple'), (2, 'Yellow')),\n",
              " ((1, 'Apple'), (4, 'Green')),\n",
              " ((2, 'Banana'), (1, 'Red')),\n",
              " ((3, 'Orange'), (1, 'Red')),\n",
              " ((2, 'Banana'), (2, 'Yellow')),\n",
              " ((2, 'Banana'), (4, 'Green')),\n",
              " ((3, 'Orange'), (2, 'Yellow')),\n",
              " ((3, 'Orange'), (4, 'Green'))]"
            ]
          },
          "metadata": {},
          "execution_count": 32
        }
      ]
    },
    {
      "cell_type": "markdown",
      "source": [
        "**Note**\n",
        "in rdd's there is no argument how "
      ],
      "metadata": {
        "id": "IFvemriii0GI"
      }
    },
    {
      "cell_type": "markdown",
      "source": [
        "# Creating a normal dataframe"
      ],
      "metadata": {
        "id": "uE609pWCjhf1"
      }
    },
    {
      "cell_type": "code",
      "source": [
        "from pyspark.sql.types import  StructType,StructField ,IntegerType,StringType\n",
        "\n",
        "schema = StructType([\n",
        "    StructField(\"id\",IntegerType(),True),\n",
        "    StructField(\"Name\",StringType(),True),\n",
        "    StructField(\"Dept\",StringType(),True),\n",
        "\n",
        "])\n",
        "data = [(1,\"Abhitayu\",\"IT\"),\n",
        "        (2,\"Saynam\",\"IT\"),\n",
        "        (3,\"Payal\",\"HR\"),\n",
        "        (4,\"Om\",\"Maketing\")]\n",
        "\n",
        "dataframe = spark.createDataFrame(data,schema = schema)\n",
        "dataframe.show()"
      ],
      "metadata": {
        "colab": {
          "base_uri": "https://localhost:8080/"
        },
        "id": "pKuWU78ligMo",
        "outputId": "1fde5902-e9c4-47cc-85da-65747f20f5b9"
      },
      "execution_count": 33,
      "outputs": [
        {
          "output_type": "stream",
          "name": "stdout",
          "text": [
            "+---+--------+--------+\n",
            "| id|    Name|    Dept|\n",
            "+---+--------+--------+\n",
            "|  1|Abhitayu|      IT|\n",
            "|  2|  Saynam|      IT|\n",
            "|  3|   Payal|      HR|\n",
            "|  4|      Om|Maketing|\n",
            "+---+--------+--------+\n",
            "\n"
          ]
        }
      ]
    },
    {
      "cell_type": "code",
      "source": [
        "\n",
        "from pyspark.sql.types import DoubleType,LongType,IntegerType,StringType,StructType,StructField\n",
        "Schema = StructType([\n",
        "    StructField(\"id\",IntegerType(),True),\n",
        "    StructField(\"Project\",StringType(),True),\n",
        "    StructField(\"revenue_Made_By_employee\",LongType(),True),\n",
        "    StructField(\"ROI\",DoubleType(),True)\n",
        "])\n",
        "\n",
        "\n",
        "\n",
        "data = [(1, \"Project A\", 1000000, 0.5),\n",
        "        (2, \"Project B\", 2000000, 0.6),\n",
        "        (3, \"Project C\", 3000000, 0.7),\n",
        "        (4, \"Project D\", 4000000, 0.8),\n",
        "        (5, \"Project E\", 5000000, 0.9)]\n",
        "\n",
        "\n",
        "dataframe2= spark.createDataFrame(data ,schema = Schema)\n",
        "dataframe2.show()"
      ],
      "metadata": {
        "colab": {
          "base_uri": "https://localhost:8080/"
        },
        "id": "S_QQR9tUmrnX",
        "outputId": "e2ceadef-4930-4e92-ca52-223034090ea3"
      },
      "execution_count": 40,
      "outputs": [
        {
          "output_type": "stream",
          "name": "stdout",
          "text": [
            "+---+---------+------------------------+---+\n",
            "| id|  Project|revenue_Made_By_employee|ROI|\n",
            "+---+---------+------------------------+---+\n",
            "|  1|Project A|                 1000000|0.5|\n",
            "|  2|Project B|                 2000000|0.6|\n",
            "|  3|Project C|                 3000000|0.7|\n",
            "|  4|Project D|                 4000000|0.8|\n",
            "|  5|Project E|                 5000000|0.9|\n",
            "+---+---------+------------------------+---+\n",
            "\n"
          ]
        }
      ]
    },
    {
      "cell_type": "markdown",
      "source": [
        "# How does Apache Spark internally select Join strategies?"
      ],
      "metadata": {
        "id": "Dn3lEoNHx7Ou"
      }
    },
    {
      "cell_type": "markdown",
      "source": [
        "#Broadcast join\n",
        "when the smaller table joins to the bigger  one ,the smaller is so small enough to be fitted into executor of the bigger table, the smaller table replicates itself into executors, where the partitions of the bigger tables are present.\n",
        "  There are maily two types of the join:\n",
        "     a)**Broadcast Hash join**: In this case, the driver builds the in-memory  hash DataFrame to distribute it to the executors.\n",
        "     b)**Broadcast nested loop join:**It is a nested for-loop join. It is very good for non-equi joins or coalescing joins."
      ],
      "metadata": {
        "id": "n22yXU6E6uNj"
      }
    },
    {
      "cell_type": "code",
      "source": [
        "from pyspark.sql.functions import broadcast\n",
        "broadcast_join = dataframe.join(broadcast(dataframe2), \"id\" ,\"inner\")\n",
        "broadcast_join.show()"
      ],
      "metadata": {
        "id": "UDgBOBtowZ2C",
        "colab": {
          "base_uri": "https://localhost:8080/"
        },
        "outputId": "d24b7eb0-2487-46fd-c715-f7e21b60d82b"
      },
      "execution_count": 46,
      "outputs": [
        {
          "output_type": "stream",
          "name": "stdout",
          "text": [
            "+---+--------+--------+---------+------------------------+---+\n",
            "| id|    Name|    Dept|  Project|revenue_Made_By_employee|ROI|\n",
            "+---+--------+--------+---------+------------------------+---+\n",
            "|  1|Abhitayu|      IT|Project A|                 1000000|0.5|\n",
            "|  2|  Saynam|      IT|Project B|                 2000000|0.6|\n",
            "|  3|   Payal|      HR|Project C|                 3000000|0.7|\n",
            "|  4|      Om|Maketing|Project D|                 4000000|0.8|\n",
            "+---+--------+--------+---------+------------------------+---+\n",
            "\n"
          ]
        }
      ]
    },
    {
      "cell_type": "markdown",
      "source": [
        "# Sort Merge join"
      ],
      "metadata": {
        "id": "fomars6cFA1n"
      }
    },
    {
      "cell_type": "code",
      "source": [],
      "metadata": {
        "id": "XNh1KThIAghN"
      },
      "execution_count": null,
      "outputs": []
    }
  ]
}